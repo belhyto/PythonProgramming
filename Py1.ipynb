{
  "nbformat": 4,
  "nbformat_minor": 0,
  "metadata": {
    "colab": {
      "provenance": [],
      "authorship_tag": "ABX9TyNjlpF0W2tsXVNdAsi9mHYg",
      "include_colab_link": true
    },
    "kernelspec": {
      "name": "python3",
      "display_name": "Python 3"
    },
    "language_info": {
      "name": "python"
    }
  },
  "cells": [
    {
      "cell_type": "markdown",
      "metadata": {
        "id": "view-in-github",
        "colab_type": "text"
      },
      "source": [
        "<a href=\"https://colab.research.google.com/github/belhyto/PythonProgramming/blob/master/Py1.ipynb\" target=\"_parent\"><img src=\"https://colab.research.google.com/assets/colab-badge.svg\" alt=\"Open In Colab\"/></a>"
      ]
    },
    {
      "cell_type": "code",
      "execution_count": null,
      "metadata": {
        "colab": {
          "base_uri": "https://localhost:8080/",
          "height": 447
        },
        "id": "n6e-2NDZLj2q",
        "outputId": "0075f9e2-1be4-471b-a98d-3d73f8866bbd"
      },
      "outputs": [
        {
          "output_type": "stream",
          "name": "stdout",
          "text": [
            "Graph using 2 lists\n"
          ]
        },
        {
          "output_type": "display_data",
          "data": {
            "text/plain": [
              "<Figure size 640x480 with 1 Axes>"
            ],
            "image/png": "[encoded data removed]"
          },
          "metadata": {}
        }
      ],
      "source": [
        "import matplotlib.pyplot as plt \n",
        "print(\"Graph using 2 lists\")\n",
        "x=[1,4,5,8]\n",
        "y=[7,4,6,9]\n",
        "plt.bar(x,y)\n",
        "plt.show()"
      ]
    },
    {
      "cell_type": "code",
      "source": [
        "m=int(input(\"First number\"))\n",
        "n=int(input(\"Second number\"))\n",
        "\n",
        "print(\"Greatest number is: \")\n",
        "if (m>n) :\n",
        "       print(m)\n",
        "else :\n",
        "      print(n) "
      ],
      "metadata": {
        "colab": {
          "base_uri": "https://localhost:8080/"
        },
        "id": "GQfmqeCDXdYA",
        "outputId": "41ad0a13-7075-4cf2-cc8d-580561e916cc"
      },
      "execution_count": null,
      "outputs": [
        {
          "output_type": "stream",
          "name": "stdout",
          "text": [
            "First number3\n",
            "Second number4\n",
            "Greatest number is: \n",
            "4\n"
          ]
        }
      ]
    },
    {
      "cell_type": "code",
      "source": [
        "#Write a python program to find the GCD of two numbers\n",
        "x=int(input(\"Enter first number:\"))\n",
        "y=int(input(\"Enter second number:\"))\n",
        "z=x+y\n",
        "print(z)"
      ],
      "metadata": {
        "colab": {
          "base_uri": "https://localhost:8080/"
        },
        "id": "6FSf_PBsNPP5",
        "outputId": "38ac60a7-6a8a-40cd-c87f-be04b9df41a0"
      },
      "execution_count": null,
      "outputs": [
        {
          "output_type": "stream",
          "name": "stdout",
          "text": [
            "Enter first number:3\n",
            "Enter second number:6\n",
            "9\n"
          ]
        }
      ]
    },
    {
      "cell_type": "code",
      "source": [
        "import math\n",
        "x=int(input(\"Enter first number:\"))\n",
        "y=int(input(\"Enter second number:\"))\n",
        "print(\"The GCD of the following numbers are:\", math.gcd(x, y))"
      ],
      "metadata": {
        "colab": {
          "base_uri": "https://localhost:8080/"
        },
        "id": "FaKtCuzMNtMl",
        "outputId": "bcd98e3d-1fec-45dd-f01f-a930c670dbeb"
      },
      "execution_count": null,
      "outputs": [
        {
          "output_type": "stream",
          "name": "stdout",
          "text": [
            "Enter first number:60\n",
            "Enter second number:48\n",
            "The GCD of the following numbers are: 12\n"
          ]
        }
      ]
    },
    {
      "cell_type": "code",
      "source": [
        "#Write a python program to check whether the entered number is a palindrome or not\n",
        "x=input(\"Enter the number:\")\n",
        "pal = x == x[::-1]\n",
        "\n",
        "if str(pal)==\"True\":\n",
        "    print (x, \" is a palindrome number.\")\n",
        "else: \n",
        "    print (x, \" is not a palindrome number.\")"
      ],
      "metadata": {
        "colab": {
          "base_uri": "https://localhost:8080/"
        },
        "id": "r3fErOJmORvi",
        "outputId": "e5ab617b-0e00-462e-87fa-0588ad54ff95"
      },
      "execution_count": null,
      "outputs": [
        {
          "output_type": "stream",
          "name": "stdout",
          "text": [
            "Enter the number:313\n",
            "313  is a palindrome number.\n"
          ]
        }
      ]
    },
    {
      "cell_type": "code",
      "source": [
        "#Write a python program to design a function to calculate the sum of a list's integer elements\n",
        "l = []\n",
        "n=int(input(\"Enter number of elements:\"))\n",
        "print(\"Enter elements of the list:\")\n",
        "for i in range(n):\n",
        "    l.append(int(input()))\n",
        "\n",
        "print(l)\n",
        "\n",
        "def sumCal(l):\n",
        "  sum=0\n",
        "  for i in l:\n",
        "        sum += i\n",
        "  return sum\n",
        "\n",
        "print(\"The sum of the elements in the list=\",sumCal(l))\n"
      ],
      "metadata": {
        "colab": {
          "base_uri": "https://localhost:8080/"
        },
        "id": "w1OzWHdlRCnV",
        "outputId": "2e6a31f3-0680-4d15-cb07-1ca07ea1574f"
      },
      "execution_count": null,
      "outputs": [
        {
          "output_type": "stream",
          "name": "stdout",
          "text": [
            "Enter number of elements:3\n",
            "Enter elements of the list:\n",
            "1\n",
            "2\n",
            "3\n",
            "[1, 2, 3]\n",
            "The sum of the elements in the list= 6\n"
          ]
        }
      ]
    },
    {
      "cell_type": "code",
      "source": [
        "#Write a python program using the function to perform the multiplication of two matrices\n",
        "\n",
        "col = int(input(\"Enter no. of columns: \"))\n",
        "row = int(input(\"Enter no. of rows: \"))\n",
        "\n",
        "mul = [ [0]*col for i in range(row)]\n",
        "\n",
        "print(\"Enter elements of Matrix 1:\")\n",
        "a1 = []\n",
        "for i in range(row):        \n",
        "    a =[]\n",
        "    for j in range(col):    \n",
        "         a.append(int(input()))\n",
        "    a1.append(a)\n",
        "\n",
        "print(\"Enter elements of Matrix 2:\")\n",
        "b1 = []\n",
        "for i in range(row):        \n",
        "    b =[]\n",
        "    for j in range(col):    \n",
        "         b.append(int(input()))\n",
        "    b1.append(b)\n",
        "\n",
        "for i in range(len(a1)):   \n",
        "    \n",
        "    for j in range(len(b1[0])):\n",
        "        \n",
        "      for k in range(len(b1)):\n",
        "        mul[i][j] += a1[i][k] * b1[k][j]\n",
        "\n",
        "for x in mul:\n",
        "    print(x)\n",
        "\n"
      ],
      "metadata": {
        "colab": {
          "base_uri": "https://localhost:8080/"
        },
        "id": "avWQJwlSVDZv",
        "outputId": "30d4d4f0-fca6-40ee-d917-fa97714cabe5"
      },
      "execution_count": null,
      "outputs": [
        {
          "output_type": "stream",
          "name": "stdout",
          "text": [
            "Enter no. of columns: 3\n",
            "Enter no. of rows: 3\n",
            "Enter elements of Matrix 1:\n",
            "1\n",
            "2\n",
            "3\n",
            "4\n",
            "5\n",
            "6\n",
            "7\n",
            "8\n",
            "9\n",
            "Enter elements of Matrix 2:\n",
            "1\n",
            "2\n",
            "3\n",
            "4\n",
            "5\n",
            "6\n",
            "7\n",
            "8\n",
            "9\n",
            "[30, 36, 42]\n",
            "[66, 81, 96]\n",
            "[102, 126, 150]\n"
          ]
        }
      ]
    },
    {
      "cell_type": "markdown",
      "source": [
        "# TUPLE **PROGRAMS**"
      ],
      "metadata": {
        "id": "begVHfEsNZWG"
      }
    },
    {
      "cell_type": "code",
      "source": [
        "#Write a python program to access value 20 from the tuple\n",
        "def findNum(tup):\n",
        "    for x in tup:\n",
        "          if (x==20):\n",
        "                  print(x)\n",
        "                  print(\"Position of 20:\",tup.index(x))\n",
        "\n",
        "tup = tuple(input(\"enter tuple\").split(' '))\n",
        "print(tup)   \n",
        "print(findNum(tup))"
      ],
      "metadata": {
        "colab": {
          "base_uri": "https://localhost:8080/"
        },
        "id": "0vuCuVasOva4",
        "outputId": "7cb89c77-7a2f-4126-b545-746720325116"
      },
      "execution_count": null,
      "outputs": [
        {
          "output_type": "stream",
          "name": "stdout",
          "text": [
            "enter tuple3 20 4\n",
            "('3', '20', '4')\n",
            "None\n"
          ]
        }
      ]
    },
    {
      "cell_type": "markdown",
      "source": [],
      "metadata": {
        "id": "U1MTcytDT9lL"
      }
    },
    {
      "cell_type": "code",
      "source": [
        "\n",
        "myTuple = (\"Ram\", 23, 10, \"Dara\", 17, \"Raju\")\n",
        "myElement = 23\n",
        "for t in myTuple:\n",
        "    if t == myElement:\n",
        "         print(\"index of given element\", t, \"is: \", myTuple.index(t));\n"
      ],
      "metadata": {
        "colab": {
          "base_uri": "https://localhost:8080/"
        },
        "id": "AQcJpEMxUHLN",
        "outputId": "c4d3fdb1-5ca6-48c2-c519-e14c886a7cf7"
      },
      "execution_count": null,
      "outputs": [
        {
          "output_type": "stream",
          "name": "stdout",
          "text": [
            "index of given element 23 is:  1\n"
          ]
        }
      ]
    },
    {
      "cell_type": "code",
      "source": [
        "#Write a python program to access value 20 from the tuple\n",
        "tup = tuple(input(\"enter tuple: \").split( ))\n",
        "n='20'\n",
        "print(\"postion of 20:\",tup.index(n))"
      ],
      "metadata": {
        "colab": {
          "base_uri": "https://localhost:8080/"
        },
        "id": "LbUUnLvgRijS",
        "outputId": "a1dc9832-8a59-4ad1-8c86-947852c94079"
      },
      "execution_count": null,
      "outputs": [
        {
          "output_type": "stream",
          "name": "stdout",
          "text": [
            "enter tuple: 3 4 2 30 20 t7 48\n",
            "postion of 20: 4\n"
          ]
        }
      ]
    },
    {
      "cell_type": "code",
      "source": [
        "tup = (50,)\n",
        "print(tup)\n",
        "print(type(tup))\n",
        "         "
      ],
      "metadata": {
        "colab": {
          "base_uri": "https://localhost:8080/"
        },
        "id": "Pgw7frRWYMrh",
        "outputId": "e9017221-1896-4318-a9d3-749450bbe2ea"
      },
      "execution_count": null,
      "outputs": [
        {
          "output_type": "stream",
          "name": "stdout",
          "text": [
            "(50,)\n",
            "<class 'tuple'>\n"
          ]
        }
      ]
    },
    {
      "cell_type": "code",
      "source": [
        "#Write a python program to reverse the tuple\n",
        "def Reverse(tup):\n",
        "    rev_tup = tup[::-1]\n",
        "    print (rev_tup)\n",
        "\n",
        "tup = tuple(input(\"enter tuple: \").split(' '))\n",
        "print(tup)   \n",
        "Reverse(tup) "
      ],
      "metadata": {
        "colab": {
          "base_uri": "https://localhost:8080/"
        },
        "id": "TVjj3KBIWTc_",
        "outputId": "ce99cacf-d893-4061-a11c-6df64faff683"
      },
      "execution_count": null,
      "outputs": [
        {
          "output_type": "stream",
          "name": "stdout",
          "text": [
            "enter tuple: 5 3 7 f t 8\n",
            "('5', '3', '7', 'f', 't', '8')\n",
            "('8', 't', 'f', '7', '3', '5')\n"
          ]
        }
      ]
    },
    {
      "cell_type": "code",
      "source": [
        "#Write a python program to unpack the tuple into 4 variables\n",
        "tup=(3,\"Red\",\"Square\",5.3)\n",
        "(num, color, shape, fl)=tup\n",
        "print(num)\n",
        "print(color)\n",
        "print(shape)\n",
        "print(fl)"
      ],
      "metadata": {
        "colab": {
          "base_uri": "https://localhost:8080/"
        },
        "id": "yOl8Yo4bXfIg",
        "outputId": "1e7b4aa3-f246-4eaa-bf7d-f4278fbab32a"
      },
      "execution_count": null,
      "outputs": [
        {
          "output_type": "stream",
          "name": "stdout",
          "text": [
            "3\n",
            "Red\n",
            "Square\n",
            "5.3\n"
          ]
        }
      ]
    },
    {
      "cell_type": "code",
      "source": [
        "str = str (input(\"Enter string with commas: \"))\n",
        "list = str.split (\",\")\n",
        "print(\"list: \", list)"
      ],
      "metadata": {
        "colab": {
          "base_uri": "https://localhost:8080/"
        },
        "id": "gfEBgBOtVwwr",
        "outputId": "90173acf-9a7e-41e0-ef16-c7c74ea05812"
      },
      "execution_count": null,
      "outputs": [
        {
          "output_type": "stream",
          "name": "stdout",
          "text": [
            "Enter string with commas: a,b,c\n",
            "list:  ['a', 'b', 'c']\n"
          ]
        }
      ]
    },
    {
      "cell_type": "code",
      "source": [
        "#Write a python program to swap two tuples in Python\n",
        "tup1 = tuple(input(\"enter 1st tuple: \").split(' '))\n",
        "tup2 = tuple(input(\"enter 2nd tuple: \").split(' '))\n",
        "print(\"1st tuple before swapping: \",tup1)\n",
        "print(\"2nd tuple before swapping: \",tup2)\n",
        "tup1, tup2=tup2, tup1\n",
        "print(\"1st tuple after swapping: \",tup1)\n",
        "print(\"2nd tuple after swapping: \",tup2)"
      ],
      "metadata": {
        "colab": {
          "base_uri": "https://localhost:8080/"
        },
        "id": "Dn1VI9bvbocN",
        "outputId": "ddb69309-08f9-4109-d452-a3ef2be80d8f"
      },
      "execution_count": null,
      "outputs": [
        {
          "output_type": "stream",
          "name": "stdout",
          "text": [
            "enter 1st tuple: q w e r 4 5 6\n",
            "enter 2nd tuple: 8 7 5 b g h\n",
            "1st tuple before swapping:  ('q', 'w', 'e', 'r', '4', '5', '6')\n",
            "2nd tuple before swapping:  ('8', '7', '5', 'b', 'g', 'h')\n",
            "1st tuple after swapping:  ('8', '7', '5', 'b', 'g', 'h')\n",
            "2nd tuple after swapping:  ('q', 'w', 'e', 'r', '4', '5', '6')\n"
          ]
        }
      ]
    },
    {
      "cell_type": "code",
      "source": [
        "#Copy specific elements from one tuple to a new tuple\n",
        "tup = tuple(input(\"enter tuple: \").split( ))\n",
        "print(\"enter elements to copy: \")\n",
        "t2=t1[2:4]\n",
        "print(t2)"
      ],
      "metadata": {
        "id": "Zt2Ws2Eic78d"
      },
      "execution_count": null,
      "outputs": []
    },
    {
      "cell_type": "markdown",
      "source": [
        "# **LIST PROGRAMS**"
      ],
      "metadata": {
        "id": "B2QhA_nhNIHR"
      }
    },
    {
      "cell_type": "code",
      "source": [
        "#Write a python program to reverse a list in Python\n",
        "l = []\n",
        "n=int(input(\"Enter number of elements:\"))\n",
        "print(\"Enter elements of the list:\")\n",
        "for i in range(n):\n",
        "    l.append(int(input()))\n",
        "print(\"The list:\", l)\n",
        "l.reverse()\n",
        "print(\"The reversed list:\", l)\n",
        "\n"
      ],
      "metadata": {
        "colab": {
          "base_uri": "https://localhost:8080/"
        },
        "id": "rZuCn8bONH0R",
        "outputId": "45b20bc8-04ed-4ffd-e6b7-e2d2a2538dce"
      },
      "execution_count": null,
      "outputs": [
        {
          "output_type": "stream",
          "name": "stdout",
          "text": [
            "Enter number of elements:4\n",
            "Enter elements of the list:\n",
            "3\n",
            "5\n",
            "6\n",
            "6\n",
            "The list: [3, 5, 6, 6]\n",
            "The reversed list: [6, 6, 5, 3]\n"
          ]
        }
      ]
    },
    {
      "cell_type": "code",
      "source": [
        "#Write a python program to concatenate two lists index-wise. (num)\n",
        "l1=[1,2,3,4]\n",
        "l2=[6,8,4,0]\n",
        "l3=[]\n",
        "for i in range(len(l1)):\n",
        "  l3.append(l1[i]+l2[i])\n",
        "print(\"The appened list:\", l3)"
      ],
      "metadata": {
        "colab": {
          "base_uri": "https://localhost:8080/"
        },
        "id": "EMGHTHmaNHoG",
        "outputId": "82eec91c-0e27-4003-9b98-1f0fb586d5ca"
      },
      "execution_count": null,
      "outputs": [
        {
          "output_type": "stream",
          "name": "stdout",
          "text": [
            "The appened list: [7, 10, 7, 4]\n"
          ]
        }
      ]
    },
    {
      "cell_type": "code",
      "source": [
        "n=int(input(\"Enter number of elements:\"))\n",
        "l1=[]\n",
        "l2=[]\n",
        "l3=[]\n",
        "print(\"Enter elements of first list:\")\n",
        "for i in range(n):\n",
        "    l1.append((input()))\n",
        "\n",
        "print(\"Enter elements of second list:\")\n",
        "for i in range(n):\n",
        "    l2.append((input()))\n",
        "\n",
        "for i in range(len(l1)):\n",
        "  l3.append(l1[i]+l2[i])\n",
        "print(\"The appened list:\", l3)"
      ],
      "metadata": {
        "colab": {
          "base_uri": "https://localhost:8080/"
        },
        "id": "G9rjsh5QR03n",
        "outputId": "96161e18-fdd0-4728-fc9a-c7db3f068feb"
      },
      "execution_count": null,
      "outputs": [
        {
          "output_type": "stream",
          "name": "stdout",
          "text": [
            "Enter number of elements:4\n",
            "Enter elements of first list:\n",
            "1\n",
            "2\n",
            "3\n",
            "4\n",
            "Enter elements of second list:\n",
            "5\n",
            "6\n",
            "7\n",
            "7\n",
            "The appened list: ['15', '26', '37', '47']\n"
          ]
        }
      ]
    },
    {
      "cell_type": "code",
      "source": [
        "#Write a python program to turn every item on a list into its square\n",
        "n=int(input(\"Enter number of elements:\"))\n",
        "l1=[]\n",
        "l2=[]\n",
        "print(\"Enter elements of the list:\")\n",
        "for i in range(n):\n",
        "    l1.append(int(input()))\n",
        "  \n",
        "def printPow(l1):\n",
        "     for x in l1:\n",
        "       x=x*x\n",
        "       l2.append(x)\n",
        "     print(l2)\n",
        "printPow(l1)"
      ],
      "metadata": {
        "colab": {
          "base_uri": "https://localhost:8080/"
        },
        "id": "Hl7G2mNmSr6K",
        "outputId": "47e79d35-6ed7-4dbe-93c5-f80d899a46dc"
      },
      "execution_count": null,
      "outputs": [
        {
          "output_type": "stream",
          "name": "stdout",
          "text": [
            "Enter number of elements:3\n",
            "Enter elements of the list:\n",
            "1\n",
            "7\n",
            "5\n",
            "[1, 49, 25]\n"
          ]
        }
      ]
    },
    {
      "cell_type": "code",
      "source": [
        "#Write a python program to iterate both lists simultaneously\n",
        "l1=[1,2,3,4]\n",
        "l2=[6,8,4,0]\n",
        "for (x,y) in zip(l1,l2):\n",
        "  print(x,y)\n"
      ],
      "metadata": {
        "colab": {
          "base_uri": "https://localhost:8080/"
        },
        "id": "Gq_XbwOmV8vs",
        "outputId": "abff08d3-bc8c-4887-f4c6-73e56a8baf9e"
      },
      "execution_count": null,
      "outputs": [
        {
          "output_type": "stream",
          "name": "stdout",
          "text": [
            "1 6\n",
            "2 8\n",
            "3 4\n",
            "4 0\n"
          ]
        }
      ]
    },
    {
      "cell_type": "code",
      "source": [
        "#Write a python program to remove empty strings from the list of strings\n",
        "l=[\"Roshni\",\"\",\"Sahoo\"]\n",
        "print(\"List:\",l)\n",
        "for i in range(len(l)-1):\n",
        "    if (l[i]==\"\"):\n",
        "      del l[i]\n",
        "print(\"Modified list:\",l)\n",
        "     "
      ],
      "metadata": {
        "colab": {
          "base_uri": "https://localhost:8080/",
          "height": 287
        },
        "id": "rjPtMIS6XFth",
        "outputId": "35e359d1-49a1-4dc1-9191-ea098fdd34c9"
      },
      "execution_count": 7,
      "outputs": [
        {
          "output_type": "stream",
          "name": "stdout",
          "text": [
            "List: ['Roshni', '', 'Sahoo']\n",
            "Roshni\n",
            "\n"
          ]
        },
        {
          "output_type": "error",
          "ename": "IndexError",
          "evalue": "ignored",
          "traceback": [
            "\u001b[0;31m---------------------------------------------------------------------------\u001b[0m",
            "\u001b[0;31mIndexError\u001b[0m                                Traceback (most recent call last)",
            "\u001b[0;32m<ipython-input-7-3af3443127f2>\u001b[0m in \u001b[0;36m<cell line: 4>\u001b[0;34m()\u001b[0m\n\u001b[1;32m      3\u001b[0m \u001b[0mprint\u001b[0m\u001b[0;34m(\u001b[0m\u001b[0;34m\"List:\"\u001b[0m\u001b[0;34m,\u001b[0m\u001b[0ml\u001b[0m\u001b[0;34m)\u001b[0m\u001b[0;34m\u001b[0m\u001b[0;34m\u001b[0m\u001b[0m\n\u001b[1;32m      4\u001b[0m \u001b[0;32mfor\u001b[0m \u001b[0mi\u001b[0m \u001b[0;32min\u001b[0m \u001b[0mrange\u001b[0m\u001b[0;34m(\u001b[0m\u001b[0mlen\u001b[0m\u001b[0;34m(\u001b[0m\u001b[0ml\u001b[0m\u001b[0;34m)\u001b[0m\u001b[0;34m+\u001b[0m\u001b[0;36m1\u001b[0m\u001b[0;34m)\u001b[0m\u001b[0;34m:\u001b[0m\u001b[0;34m\u001b[0m\u001b[0;34m\u001b[0m\u001b[0m\n\u001b[0;32m----> 5\u001b[0;31m     \u001b[0mprint\u001b[0m\u001b[0;34m(\u001b[0m\u001b[0ml\u001b[0m\u001b[0;34m[\u001b[0m\u001b[0mi\u001b[0m\u001b[0;34m]\u001b[0m\u001b[0;34m)\u001b[0m\u001b[0;34m\u001b[0m\u001b[0;34m\u001b[0m\u001b[0m\n\u001b[0m\u001b[1;32m      6\u001b[0m     \u001b[0;32mif\u001b[0m \u001b[0;34m(\u001b[0m\u001b[0ml\u001b[0m\u001b[0;34m[\u001b[0m\u001b[0mi\u001b[0m\u001b[0;34m]\u001b[0m\u001b[0;34m==\u001b[0m\u001b[0;34m\"\"\u001b[0m\u001b[0;34m)\u001b[0m\u001b[0;34m:\u001b[0m\u001b[0;34m\u001b[0m\u001b[0;34m\u001b[0m\u001b[0m\n\u001b[1;32m      7\u001b[0m       \u001b[0;32mdel\u001b[0m \u001b[0ml\u001b[0m\u001b[0;34m[\u001b[0m\u001b[0mi\u001b[0m\u001b[0;34m]\u001b[0m\u001b[0;34m\u001b[0m\u001b[0;34m\u001b[0m\u001b[0m\n",
            "\u001b[0;31mIndexError\u001b[0m: list index out of range"
          ]
        }
      ]
    },
    {
      "cell_type": "code",
      "source": [
        "#Write a python program to add a new item to the list after a specified item\n",
        "l=[]\n",
        "n=int(input(\"Enter number of elements:\"))\n",
        "print(\"Enter elements of list:\")\n",
        "for i in range(n):\n",
        "    l.append((input()))\n",
        "print(\"List:\",l)\n",
        "new_item=input(\"Enter new item to add to list:\")\n",
        "prev_item=input(\"Enter the item before the new item:\")\n",
        "for i in range(len(l)):\n",
        "    if (l[i]==prev_item):\n",
        "      l.insert(i+1, new_item)\n",
        "print(\"Modified list:\",l)"
      ],
      "metadata": {
        "colab": {
          "base_uri": "https://localhost:8080/"
        },
        "id": "W_1YGXxQZb0c",
        "outputId": "acc29051-6c6b-40e4-9142-785e85564afb"
      },
      "execution_count": null,
      "outputs": [
        {
          "output_type": "stream",
          "name": "stdout",
          "text": [
            "Enter number of elements:6\n",
            "Enter elements of list:\n",
            "R\n",
            "o\n",
            "s\n",
            "h\n",
            "n\n",
            "i\n",
            "List: ['R', 'o', 's', 'h', 'n', 'i']\n",
            "Enter new item to add to list:S\n",
            "Enter the item before the new item:i\n",
            "Modified list: ['R', 'o', 's', 'h', 'n', 'i', 'S']\n"
          ]
        }
      ]
    },
    {
      "cell_type": "code",
      "source": [
        "#Write a python program to extend the nested list by adding the sublist\n",
        "nestedList=[\"DM\", \"TAC\", [\"OS\", [\"CG\",[\"PP\", \"WP\"]]]] \n",
        "sublist=[\"CSS\",\"FL\",\"MT\"] \n",
        "nestedList[2][1][1].extend(sublist)\n",
        "print(nestedList)"
      ],
      "metadata": {
        "colab": {
          "base_uri": "https://localhost:8080/"
        },
        "id": "Kdi3SXj7gss9",
        "outputId": "8c1b9da0-5b9d-4761-df64-479f6e67dc1f"
      },
      "execution_count": null,
      "outputs": [
        {
          "output_type": "stream",
          "name": "stdout",
          "text": [
            "['DM', 'TAC', ['OS', ['CG', ['PP', 'WP', 'CSS', 'FL', 'MT']]]]\n"
          ]
        }
      ]
    },
    {
      "cell_type": "code",
      "source": [
        "#Write a python program to replace the list’s item with a new value if found\n",
        "l=[]\n",
        "n=int(input(\"Enter number of elements:\"))\n",
        "print(\"Enter elements of list:\")\n",
        "for i in range(n):\n",
        "    l.append((input()))\n",
        "print(\"List:\",l)\n",
        "old_item=input(\"Enter element to change:\")\n",
        "new_item=input(\"Enter new element:\")\n",
        "\n",
        "for i in range(len(l)):\n",
        "    if(l[i]==old_item):\n",
        "        l[i]=new_item\n",
        "\n",
        "print(\"Modified list:\",l)"
      ],
      "metadata": {
        "colab": {
          "base_uri": "https://localhost:8080/"
        },
        "id": "vvWo1Gx8j1Qr",
        "outputId": "b95dec46-3bc1-4b96-c038-52a9eb6d06d0"
      },
      "execution_count": null,
      "outputs": [
        {
          "output_type": "stream",
          "name": "stdout",
          "text": [
            "Enter number of elements:4\n",
            "Enter elements of list:\n",
            "a\n",
            "b\n",
            "c\n",
            "d\n",
            "List: ['a', 'b', 'c', 'd']\n",
            "Enter element to change:c\n",
            "Enter new element:o\n",
            "Modified list: ['a', 'b', 'o', 'd']\n"
          ]
        }
      ]
    },
    {
      "cell_type": "code",
      "source": [
        "#Write a python program to remove all occurrences of a specific item from a list\n",
        "l=[]\n",
        "n=int(input(\"Enter number of elements:\"))\n",
        "print(\"Enter elements of list:\")\n",
        "for i in range(n):\n",
        "    l.append((input()))\n",
        "print(\"List:\",l)\n",
        "del_item=\"e\"\n",
        "#del_item=input(\"Enter element to delete:\")\n",
        "for i in range(len(l)-1):\n",
        "  if(l[i]==del_item):\n",
        "    l.remove(l[i])\n",
        "print(\"Modified list:\",l)"
      ],
      "metadata": {
        "colab": {
          "base_uri": "https://localhost:8080/",
          "height": 391
        },
        "id": "GUrgJHQ3k1xy",
        "outputId": "2c31930b-5ae1-416b-b7f8-1551fa500201"
      },
      "execution_count": null,
      "outputs": [
        {
          "output_type": "stream",
          "name": "stdout",
          "text": [
            "Enter number of elements:6\n",
            "Enter elements of list:\n",
            "d\n",
            "e\n",
            "l\n",
            "e\n",
            "t\n",
            "e\n",
            "List: ['d', 'e', 'l', 'e', 't', 'e']\n"
          ]
        },
        {
          "output_type": "error",
          "ename": "IndexError",
          "evalue": "ignored",
          "traceback": [
            "\u001b[0;31m---------------------------------------------------------------------------\u001b[0m",
            "\u001b[0;31mIndexError\u001b[0m                                Traceback (most recent call last)",
            "\u001b[0;32m<ipython-input-58-dbcee3a23aeb>\u001b[0m in \u001b[0;36m<module>\u001b[0;34m\u001b[0m\n\u001b[1;32m      9\u001b[0m \u001b[0;31m#del_item=input(\"Enter element to delete:\")\u001b[0m\u001b[0;34m\u001b[0m\u001b[0;34m\u001b[0m\u001b[0m\n\u001b[1;32m     10\u001b[0m \u001b[0;32mfor\u001b[0m \u001b[0mi\u001b[0m \u001b[0;32min\u001b[0m \u001b[0mrange\u001b[0m\u001b[0;34m(\u001b[0m\u001b[0mlen\u001b[0m\u001b[0;34m(\u001b[0m\u001b[0ml\u001b[0m\u001b[0;34m)\u001b[0m\u001b[0;34m-\u001b[0m\u001b[0;36m1\u001b[0m\u001b[0;34m)\u001b[0m\u001b[0;34m:\u001b[0m\u001b[0;34m\u001b[0m\u001b[0;34m\u001b[0m\u001b[0m\n\u001b[0;32m---> 11\u001b[0;31m   \u001b[0;32mif\u001b[0m\u001b[0;34m(\u001b[0m\u001b[0ml\u001b[0m\u001b[0;34m[\u001b[0m\u001b[0mi\u001b[0m\u001b[0;34m]\u001b[0m\u001b[0;34m==\u001b[0m\u001b[0mdel_item\u001b[0m\u001b[0;34m)\u001b[0m\u001b[0;34m:\u001b[0m\u001b[0;34m\u001b[0m\u001b[0;34m\u001b[0m\u001b[0m\n\u001b[0m\u001b[1;32m     12\u001b[0m     \u001b[0ml\u001b[0m\u001b[0;34m.\u001b[0m\u001b[0mremove\u001b[0m\u001b[0;34m(\u001b[0m\u001b[0ml\u001b[0m\u001b[0;34m[\u001b[0m\u001b[0mi\u001b[0m\u001b[0;34m]\u001b[0m\u001b[0;34m)\u001b[0m\u001b[0;34m\u001b[0m\u001b[0;34m\u001b[0m\u001b[0m\n\u001b[1;32m     13\u001b[0m \u001b[0mprint\u001b[0m\u001b[0;34m(\u001b[0m\u001b[0;34m\"Modified list:\"\u001b[0m\u001b[0;34m,\u001b[0m\u001b[0ml\u001b[0m\u001b[0;34m)\u001b[0m\u001b[0;34m\u001b[0m\u001b[0;34m\u001b[0m\u001b[0m\n",
            "\u001b[0;31mIndexError\u001b[0m: list index out of range"
          ]
        }
      ]
    },
    {
      "cell_type": "code",
      "source": [
        "list=[]\n",
        "n=int(input(\"Enter number of elements:\"))\n",
        "print(\"Enter elements of list:\")\n",
        "for i in range(n):\n",
        "    list.append((input()))\n",
        "print(\"List:\",list)\n",
        "del_item=input(\"Enter element to delete:\")\n",
        "i=0 \n",
        "length = len(list)  #list length \n",
        "while(i<length):\n",
        "\tif(list[i]==del_item):\n",
        "\t\tlist.remove (list[i])\n",
        "\t\tlength = length -1  \n",
        "\t\tcontinue\n",
        "\ti = i+1\n",
        "\n",
        "print (\"list after removing elements:\")\n",
        "print (list)"
      ],
      "metadata": {
        "colab": {
          "base_uri": "https://localhost:8080/"
        },
        "id": "kf_hQR4TsSeB",
        "outputId": "893c5fd3-37df-4485-a8bb-7202981faf0d"
      },
      "execution_count": null,
      "outputs": [
        {
          "output_type": "stream",
          "name": "stdout",
          "text": [
            "Enter number of elements:6\n",
            "Enter elements of list:\n",
            "d\n",
            "e\n",
            "l\n",
            "e\n",
            "t\n",
            "e\n",
            "List: ['d', 'e', 'l', 'e', 't', 'e']\n",
            "Enter element to delete:e\n",
            "list after removing elements:\n",
            "['d', 'l', 't']\n"
          ]
        }
      ]
    },
    {
      "cell_type": "markdown",
      "source": [
        "1. Write a program in python to concatenate 3 dictionaries \n",
        "2. Write a program in python to create a dictionary for the student information add new student information and get the average of the student marks of 3 subjects."
      ],
      "metadata": {
        "id": "l9HByRtvqBLO"
      }
    },
    {
      "cell_type": "code",
      "source": [
        "#Write a program in python to concatenate 3 dictionaries \n",
        "\n",
        "d1={\n",
        "    1:\"javascript\",\n",
        "    2:\"HTML\",\n",
        "    3:\"CSS\"\n",
        "}\n",
        "\n",
        "d2={\n",
        "    4:\"Java\",\n",
        "    5:\"C\",\n",
        "    6:\"C++\"\n",
        "}\n",
        "\n",
        "d3={\n",
        "    7:\"Python\"\n",
        "}\n",
        "\n",
        "d1.update(d2)\n",
        "d1.update(d3)\n",
        "print(d1)\n"
      ],
      "metadata": {
        "colab": {
          "base_uri": "https://localhost:8080/"
        },
        "id": "GyF5OCXZpXzh",
        "outputId": "7fadfce2-5733-45bf-b4a6-6aa611fd8e3d"
      },
      "execution_count": null,
      "outputs": [
        {
          "output_type": "stream",
          "name": "stdout",
          "text": [
            "{1: 'javascript', 2: 'HTML', 3: 'CSS', 4: 'Java', 5: 'C', 6: 'C++', 7: 'Python'}\n"
          ]
        }
      ]
    },
    {
      "cell_type": "code",
      "source": [
        "#Write a program in python to create a dictionary for the student information add new student information and get the average of the student marks of 3 subjects.\n",
        "\n",
        "studentInfo={\n",
        "    \"Student1\":{ \n",
        "    \"Name\":\"Irene\",\n",
        "    \"Roll no.\":1,\n",
        "    \"Marks\":89\n",
        "   },\n",
        "   \"Student2\":{ \n",
        "    \"Name\":\"Wendy\",\n",
        "    \"Roll no.\":1,\n",
        "    \"Marks\":95\n",
        "   },\n",
        "  \"Student3\": { \n",
        "    \"Name\":\"Giselle\",\n",
        "    \"Roll no.\":1,\n",
        "    \"Marks\":73\n",
        "   }\n",
        "}\n",
        "print(\"Enter New Student Details:\")\n",
        "name=input(\"Enter Name:\")\n",
        "roll=int(input(\"Enter Roll no:\"))\n",
        "marks=int(input(\"Enter Marks:\"))\n",
        "\n",
        "student4={\"Name\":\"\",\n",
        "    \"Roll no.\":1,\n",
        "    \"Marks\":73}\n",
        "\n",
        "print(studentInfo)"
      ],
      "metadata": {
        "colab": {
          "base_uri": "https://localhost:8080/"
        },
        "id": "s8Aso5MZtZt4",
        "outputId": "0d74bab9-383c-4707-fab3-ca93b11a8067"
      },
      "execution_count": null,
      "outputs": [
        {
          "output_type": "stream",
          "name": "stdout",
          "text": [
            "{'Student1': {'Name': 'Irene', 'Roll no.': 1, 'Marks': 89}, 'Student2': {'Name': 'Wendy', 'Roll no.': 1, 'Marks': 95}, 'Student3': {'Name': 'Giselle', 'Roll no.': 1, 'Marks': 73}}\n"
          ]
        }
      ]
    },
    {
      "cell_type": "code",
      "source": [
        "def fib(n):\n",
        "  a, b = 0, 1\n",
        "  while a < n:\n",
        "      print(a, end=' ')\n",
        "      a, b = b, a+b\n",
        "      fib(1000)"
      ],
      "metadata": {
        "id": "rTfSCPPQn6rx"
      },
      "execution_count": null,
      "outputs": []
    },
    {
      "cell_type": "markdown",
      "source": [
        "# **Numpy**\n"
      ],
      "metadata": {
        "id": "eeSi6GyCvXbL"
      }
    },
    {
      "cell_type": "code",
      "source": [
        "#return 2nd index from both element\n",
        "import numpy as np\n",
        "arr = np.array([[1, 2, 3, 4, 5], [6, 7, 8, 9, 10]])\n",
        "print(arr[0:2, 2]) \n",
        "# 0:2 - array elements slicing , 2- index numbers \n",
        "print(arr[0:2, 2]) \n"
      ],
      "metadata": {
        "colab": {
          "base_uri": "https://localhost:8080/"
        },
        "id": "1cfkdeNPrWyB",
        "outputId": "962c6386-b987-4fcf-ac0b-dd21db2fc6ae"
      },
      "execution_count": null,
      "outputs": [
        {
          "output_type": "stream",
          "name": "stdout",
          "text": [
            "[3 8]\n",
            "[8]\n"
          ]
        }
      ]
    },
    {
      "cell_type": "code",
      "source": [
        "#return array of old rows and even columns from array\n",
        "import numpy as np\n",
        "arr = np.array([[1, 2, 3, 4, 5], [6, 7, 8, 9, 10],[4,7,9,8,3]])\n",
        "print(arr)\n",
        "print(arr[::2, 1::2])"
      ],
      "metadata": {
        "colab": {
          "base_uri": "https://localhost:8080/"
        },
        "id": "8Xzj3Irqs00o",
        "outputId": "d8b1a754-895c-4c99-936b-1aaf666cf1f9"
      },
      "execution_count": null,
      "outputs": [
        {
          "output_type": "stream",
          "name": "stdout",
          "text": [
            "[[ 1  2  3  4  5]\n",
            " [ 6  7  8  9 10]\n",
            " [ 4  7  9  8  3]]\n",
            "[[2 4]\n",
            " [7 8]]\n"
          ]
        }
      ]
    },
    {
      "cell_type": "code",
      "source": [
        "\n",
        "import numpy as np\n",
        "arr = np.array([1, 2, 3, 4, 5], dtype='S')\n",
        "print(arr)\n",
        "print(arr.dtype)"
      ],
      "metadata": {
        "colab": {
          "base_uri": "https://localhost:8080/"
        },
        "id": "vd-KxCTKvVDR",
        "outputId": "2f066c0a-03ec-4ca8-d69f-51f636f2f231"
      },
      "execution_count": null,
      "outputs": [
        {
          "output_type": "stream",
          "name": "stdout",
          "text": [
            "[b'1' b'2' b'3' b'4' b'5']\n"
          ]
        }
      ]
    },
    {
      "cell_type": "code",
      "source": [
        "#change data type from float to int - i is parameter value\n",
        "import numpy as np\n",
        "arr = np.array([1.2, 2.5, 3.9, 4.0, 5.4])\n",
        "narr=arr.astype('i')\n",
        "print(narr)\n",
        "print(narr.dtype)\n",
        "# int 32 bit \n"
      ],
      "metadata": {
        "colab": {
          "base_uri": "https://localhost:8080/"
        },
        "id": "vptvRtSwwUsZ",
        "outputId": "7171283e-69a3-4cb0-d6ed-efc5c0a25141"
      },
      "execution_count": null,
      "outputs": [
        {
          "output_type": "stream",
          "name": "stdout",
          "text": [
            "[1 2 3 4 5]\n",
            "int32\n"
          ]
        }
      ]
    },
    {
      "cell_type": "code",
      "source": [
        "#copy function\n",
        "import numpy as np\n",
        "arr =np.array([1,2,3,4])\n",
        "x=arr.copy()\n",
        "arr[0]=42\n",
        "print(arr)\n",
        "print(x)"
      ],
      "metadata": {
        "colab": {
          "base_uri": "https://localhost:8080/"
        },
        "id": "a1jbzOqUyXXO",
        "outputId": "8468c4f4-dd8d-4348-e298-8c7f001d1498"
      },
      "execution_count": null,
      "outputs": [
        {
          "output_type": "stream",
          "name": "stdout",
          "text": [
            "[42  2  3  4]\n",
            "[1 2 3 4]\n"
          ]
        }
      ]
    },
    {
      "cell_type": "code",
      "source": [
        "#view function - changes made in the original are shown in the viewed array\n",
        "import numpy as np\n",
        "arr =np.array([1,2,3,4])\n",
        "x=arr.view()\n",
        "arr[0]=42\n",
        "print(arr)\n",
        "print(x)\n",
        "print(x.base)"
      ],
      "metadata": {
        "colab": {
          "base_uri": "https://localhost:8080/"
        },
        "id": "PX1xgIH6zZn7",
        "outputId": "6d1a71b1-afac-4803-f2da-e07bcb87088d"
      },
      "execution_count": null,
      "outputs": [
        {
          "output_type": "stream",
          "name": "stdout",
          "text": [
            "[42  2  3  4]\n",
            "[42  2  3  4]\n",
            "[42  2  3  4]\n"
          ]
        }
      ]
    },
    {
      "cell_type": "code",
      "source": [
        "#Create a NumPy array with values 1 through 10. Use slicing to create a new array containing only the values 3 through 8.\n",
        "import numpy as np\n",
        "arr =np.array([1,2,3,4,5,6,7,8,9,10])\n",
        "newarr=arr[2:8]\n",
        "print(newarr)"
      ],
      "metadata": {
        "colab": {
          "base_uri": "https://localhost:8080/"
        },
        "id": "RkSMHOkHzrTB",
        "outputId": "a2027cf2-c065-4038-d60a-8348de76c600"
      },
      "execution_count": null,
      "outputs": [
        {
          "output_type": "stream",
          "name": "stdout",
          "text": [
            "[3 4 5 6 7 8]\n"
          ]
        }
      ]
    },
    {
      "cell_type": "code",
      "source": [
        "#Create a NumPy array with values 1 through 15. Use indexing to select only the values that are divisible by 3\n",
        "import numpy as np\n",
        "arr =np.array([1,2,3,4,5,6,7,8,9,10,11,12,13,14,15])\n",
        "i=0\n",
        "for x in range(15):\n",
        "  if (x%3==0):\n",
        "     print(x)"
      ],
      "metadata": {
        "colab": {
          "base_uri": "https://localhost:8080/"
        },
        "id": "cLDX-RkZ3H2t",
        "outputId": "e6fff723-f967-406e-f066-0fc7cefdf295"
      },
      "execution_count": null,
      "outputs": [
        {
          "output_type": "stream",
          "name": "stdout",
          "text": [
            "0\n",
            "3\n",
            "6\n",
            "9\n",
            "12\n"
          ]
        }
      ]
    },
    {
      "cell_type": "code",
      "source": [
        "#Create a NumPy array with values 1 through 10. Use the view() method to create a new \n",
        "#array that is a view of the first array. Modify the second array and observe the changes in the \n",
        "#first array.\n",
        "import numpy as np\n",
        "arr =np.array([1,2,3,4,5,6,7,8,9,10])\n",
        "arr1=arr.view()\n",
        "arr1[2]=19\n",
        "print(arr1)\n",
        "print(arr)"
      ],
      "metadata": {
        "colab": {
          "base_uri": "https://localhost:8080/"
        },
        "id": "p56cbu6E3-WJ",
        "outputId": "360f89c6-bced-4c6a-eed7-190b3091ec2f"
      },
      "execution_count": null,
      "outputs": [
        {
          "output_type": "stream",
          "name": "stdout",
          "text": [
            "[ 1  2 19  4  5  6  7  8  9 10]\n",
            "[ 1  2 19  4  5  6  7  8  9 10]\n"
          ]
        }
      ]
    },
    {
      "cell_type": "code",
      "source": [
        "#Create a NumPy array with values 1 through 10. Use the copy () method to create a new \n",
        "#array that is a copy of the first array. Modify the second array and observe that the first array \n",
        "#remains unchanged\n",
        "import numpy as np\n",
        "arr =np.array([1,2,3,4,5,6,7,8,9,10])\n",
        "arr1=arr.copy()\n",
        "arr1[2]=19\n",
        "print(arr1)\n",
        "print(arr)"
      ],
      "metadata": {
        "colab": {
          "base_uri": "https://localhost:8080/"
        },
        "id": "c7Tl2Bk15aPE",
        "outputId": "dc77f0a7-6457-42d1-ed37-6d92c8f4b570"
      },
      "execution_count": null,
      "outputs": [
        {
          "output_type": "stream",
          "name": "stdout",
          "text": [
            "[ 1  2 19  4  5  6  7  8  9 10]\n",
            "[ 1  2  3  4  5  6  7  8  9 10]\n"
          ]
        }
      ]
    },
    {
      "cell_type": "code",
      "source": [
        "i=1\n",
        "sum1=0\n",
        "li=[2,3,6,496]\n",
        "for x in li:\n",
        "  for i in range(1,x):\n",
        "    if (x%i==0):\n",
        "       sum1 +=i    \n",
        "  print(sum1)  \n",
        "  if(sum1==x) :\n",
        "    print(x, \"Perfect Number\")\n",
        "  sum1=0"
      ],
      "metadata": {
        "id": "f2y2xMfvirGN"
      },
      "execution_count": null,
      "outputs": []
    },
    {
      "cell_type": "markdown",
      "source": [
        "# **SETS**"
      ],
      "metadata": {
        "id": "r7CzIMY0t8Ux"
      }
    },
    {
      "cell_type": "code",
      "source": [
        "li1=[1,2,4,5]\n",
        "li2=[7,8,2,4]\n",
        "set2=set(li1)\n",
        "set3=set(li2)\n",
        "set2.intersection(set3)\n",
        "print(set2)\n",
        "for i in li2:\n",
        "  li1.append(i)\n",
        "for i,j in zip(li1,li2):\n",
        "  print(i,\" \",j)\n",
        "  if(i==j):\n",
        "    print(\"common elements:\",i)\n",
        "  else:\n",
        "    print(\"no common elements\")\n",
        "set1= set(li1)\n",
        "li3=list(set1)\n",
        "print(set1)\n",
        "print(li3)\n",
        "print(li1)\n"
      ],
      "metadata": {
        "colab": {
          "base_uri": "https://localhost:8080/"
        },
        "id": "-DAQt_Oit8ID",
        "outputId": "79e18563-efc0-42e1-e736-2f4e9e8a069b"
      },
      "execution_count": null,
      "outputs": [
        {
          "output_type": "stream",
          "name": "stdout",
          "text": [
            "{1, 2, 4, 5}\n",
            "1   7\n",
            "no common elements\n",
            "2   8\n",
            "no common elements\n",
            "4   2\n",
            "no common elements\n",
            "5   4\n",
            "no common elements\n",
            "{1, 2, 4, 5, 7, 8}\n",
            "[1, 2, 4, 5, 7, 8]\n",
            "[1, 2, 4, 5, 7, 8, 2, 4]\n"
          ]
        }
      ]
    },
    {
      "cell_type": "code",
      "source": [
        "8l1=[]\n",
        "l2=[]\n",
        "dic={}\n",
        "def get_data():\n",
        "  x=1\n",
        "  while(x!=0):\n",
        "    k=input(\"enter keys\")\n",
        "    l1.append(k)\n",
        "    v=input(\"enter values\")\n",
        "    l2.append(v)\n",
        "    x=int(input(\"Continue?(0/1)\"))\n",
        "  print(l1,\" \",l2) \n",
        "  \n",
        "def lisDict(l1,l2):  \n",
        "  for key,val in zip(l1,l2):\n",
        "    print(key,\" \",val)\n",
        "    dic.update({key:val})\n",
        "    print(dic)\n",
        "    \n",
        "get_data()\n",
        "lisDict(l1,l2)"
      ],
      "metadata": {
        "colab": {
          "base_uri": "https://localhost:8080/"
        },
        "id": "MCutaby3wU_p",
        "outputId": "8ad0d025-9809-4fbe-f87a-cee469527e81"
      },
      "execution_count": null,
      "outputs": [
        {
          "output_type": "stream",
          "name": "stdout",
          "text": [
            "enter keys3\n",
            "enter values5\n",
            "Continue?(0/1)1\n",
            "enter keys6\n",
            "enter values9\n",
            "Continue?(0/1)0\n",
            "['3', '6']   ['5', '9']\n",
            "3   5\n",
            "{'3': '5'}\n",
            "6   9\n",
            "{'3': '5', '6': '9'}\n"
          ]
        }
      ]
    },
    {
      "cell_type": "code",
      "source": [
        "def add():\n",
        "  s=2\n",
        "  d=4\n",
        "  f=s+d\n",
        "  return f\n",
        "add()"
      ],
      "metadata": {
        "colab": {
          "base_uri": "https://localhost:8080/"
        },
        "id": "PiA7FB8X1PhC",
        "outputId": "8299504f-f1af-4b8a-eff9-9ce6bd5b11c5"
      },
      "execution_count": null,
      "outputs": [
        {
          "output_type": "execute_result",
          "data": {
            "text/plain": [
              "6"
            ]
          },
          "metadata": {},
          "execution_count": 3
        }
      ]
    },
    {
      "cell_type": "code",
      "source": [
        "dic={}\n",
        "dic={1:\"q\",2:\"w\"}"
      ],
      "metadata": {
        "id": "wLSaqy8t41U9"
      },
      "execution_count": null,
      "outputs": []
    },
    {
      "cell_type": "code",
      "source": [
        "d1={1:\"w\"}\n",
        "d2={2:\"e\"}\n",
        "\n",
        "d1.update(d2)\n",
        "print(d1)\n",
        "\n",
        "  \n",
        "  \n",
        "  "
      ],
      "metadata": {
        "colab": {
          "base_uri": "https://localhost:8080/"
        },
        "id": "mQyIm0yO7FOf",
        "outputId": "d088293d-aee3-4f89-a1a0-a70484ffbd38"
      },
      "execution_count": null,
      "outputs": [
        {
          "output_type": "stream",
          "name": "stdout",
          "text": [
            "{1: 'w', 2: 'e'}\n"
          ]
        }
      ]
    },
    {
      "cell_type": "code",
      "source": [
        "#Create two sets with some common elements. Find the intersection and union of these sets\n",
        "set1={1,\"d\",\"e\",7,5}\n",
        "set2={4,\"d\",\"h\",5,3}\n",
        "print(set1.intersection(set2))\n",
        "print(set1.union(set2))"
      ],
      "metadata": {
        "colab": {
          "base_uri": "https://localhost:8080/"
        },
        "id": "SddUeb1oOijd",
        "outputId": "6c95c591-7450-45ad-91b5-8503c8a8bf84"
      },
      "execution_count": null,
      "outputs": [
        {
          "output_type": "stream",
          "name": "stdout",
          "text": [
            "{5, 'd'}\n",
            "{1, 'h', 3, 4, 5, 7, 'd', 'e'}\n"
          ]
        }
      ]
    },
    {
      "cell_type": "markdown",
      "source": [],
      "metadata": {
        "id": "aQz4E9WqQOUp"
      }
    },
    {
      "cell_type": "code",
      "source": [
        "#Write a program to remove the duplicates from a list using sets.\n",
        "l1=[2,1,1,3,5,6]\n",
        "print(\"List:\",l1)\n",
        "set1=set(l1)\n",
        "print(\"Set:\",set1)"
      ],
      "metadata": {
        "colab": {
          "base_uri": "https://localhost:8080/"
        },
        "id": "2DOCf02sPZFr",
        "outputId": "a260ef5e-39b8-4c17-93ee-fdf15d0e2dca"
      },
      "execution_count": null,
      "outputs": [
        {
          "output_type": "stream",
          "name": "stdout",
          "text": [
            "List: [2, 1, 1, 3, 5, 6]\n",
            "Set: {1, 2, 3, 5, 6}\n"
          ]
        }
      ]
    },
    {
      "cell_type": "code",
      "source": [
        "\n",
        "primeSet={2, 3, 5, 7, 11, 13, 17, 19, 23, 29, 31, 37, 41, 43, 47, 53, 59, 61, 67, 71, 73, 79, 83, 89, 97}\n",
        "x=int(input(\"Enter a number from 0 to 100:\"))\n",
        "flag=True\n",
        "for i in primeSet:\n",
        "  if (i==x):\n",
        "    print(\"It is a prime number.\")\n",
        "    flag=False\n",
        "if(flag):\n",
        "  print(\"It is not a prime number.\")"
      ],
      "metadata": {
        "colab": {
          "base_uri": "https://localhost:8080/"
        },
        "id": "tp5suoshQZLu",
        "outputId": "14196024-5fac-4ee7-e240-4f1851f44645"
      },
      "execution_count": null,
      "outputs": [
        {
          "output_type": "stream",
          "name": "stdout",
          "text": [
            "Enter a number from 0 to 100:12\n",
            "It is not a prime number.\n"
          ]
        }
      ]
    },
    {
      "cell_type": "code",
      "source": [
        "#Create a dictionary with keys as fruit names and values as their prices. Ask the user to enter a fruit name and print its price\n",
        "fruitDict={\n",
        "    \"apple\":15,\n",
        "    \"banana\":5,\n",
        "    \"mango\":10,\n",
        "    \"orange\":5,\n",
        "    \"strawberry\":50\n",
        "}\n",
        "fruit=input(\"Enter fruit name:\")\n",
        "fruit.lower()\n",
        "for x in fruitDict.keys():\n",
        "  if (fruit==x):\n",
        "    print(\"Price of \",x,\": \",fruitDict[x])"
      ],
      "metadata": {
        "colab": {
          "base_uri": "https://localhost:8080/"
        },
        "id": "TBdJfGlKSgDc",
        "outputId": "c9c4b1b1-c1b5-491f-899e-30282f88603d"
      },
      "execution_count": null,
      "outputs": [
        {
          "output_type": "stream",
          "name": "stdout",
          "text": [
            "Enter fruit name:mango\n",
            "Price of  mango :  10\n"
          ]
        }
      ]
    },
    {
      "cell_type": "code",
      "source": [
        "#Write a program to count the frequency of words in a sentence using a dictionary.\n",
        "str=input(\"Enter a sentence\")\n",
        "wordList=str.split(\" \")\n",
        "freq={}\n",
        "for x in wordList:\n",
        " if x in freq:\n",
        "   freq[x]+=1\n",
        " else:\n",
        "  freq[x]=1\n",
        "\n",
        "print(freq)\n"
      ],
      "metadata": {
        "colab": {
          "base_uri": "https://localhost:8080/"
        },
        "id": "6WP6lenWUPGA",
        "outputId": "1df7c04f-2a56-4f76-adf2-1735542922ff"
      },
      "execution_count": null,
      "outputs": [
        {
          "output_type": "stream",
          "name": "stdout",
          "text": [
            "Enter a sentencewe we we bob\n",
            "{'we': 3, 'bob': 1}\n"
          ]
        }
      ]
    },
    {
      "cell_type": "code",
      "source": [
        "#Create a dictionary with keys as student names and values as their marks in 5 subjects.Calculate the total marks and average marks for each student\n",
        "studentMarks={\n",
        "    \"Irene\":{ \n",
        "    \"Maths\":90,\n",
        "    \"English\":80,\n",
        "    \"History\":73,\n",
        "    \"Science\":77,\n",
        "    \"Geography\":89\n",
        "   },\n",
        "   \"Wendy\":{ \n",
        "    \"Maths\":80,\n",
        "    \"English\":89,\n",
        "    \"History\":75,\n",
        "    \"Science\":87,\n",
        "    \"Geography\":99\n",
        "   },\n",
        "  \"Giselle\": { \n",
        "   \"Maths\":93,\n",
        "    \"English\":88,\n",
        "    \"History\":83,\n",
        "    \"Science\":87,\n",
        "    \"Geography\":86\n",
        "   }\n",
        "}\n",
        "\n",
        "for student in studentMarks:\n",
        "  print(student)\n",
        "  sum=0\n",
        "  for subject, marks in studentMarks[student].items():\n",
        "   \n",
        "    print(marks,\" \",subject)\n",
        "    sum += marks\n",
        "  avgMarks=sum/5\n",
        "  print(student,\"'s average marks:\",avgMarks)"
      ],
      "metadata": {
        "colab": {
          "base_uri": "https://localhost:8080/"
        },
        "id": "c_zWBjQCWIrm",
        "outputId": "de04b9cc-ea44-44c3-8c90-d1bdad0af3dc"
      },
      "execution_count": null,
      "outputs": [
        {
          "output_type": "stream",
          "name": "stdout",
          "text": [
            "Irene\n",
            "90   Maths\n",
            "80   English\n",
            "73   History\n",
            "77   Science\n",
            "89   Geography\n",
            "Irene 's average marks: 81.8\n",
            "Wendy\n",
            "80   Maths\n",
            "89   English\n",
            "75   History\n",
            "87   Science\n",
            "99   Geography\n",
            "Wendy 's average marks: 86.0\n",
            "Giselle\n",
            "93   Maths\n",
            "88   English\n",
            "83   History\n",
            "87   Science\n",
            "86   Geography\n",
            "Giselle 's average marks: 87.4\n"
          ]
        }
      ]
    },
    {
      "cell_type": "code",
      "source": [
        "keys = ['Ten', 'Twenty', 'Thirty'] \n",
        "values = [10, 20, 30]\n",
        "dic={}\n",
        "for key,val in zip(keys,values):\n",
        "    dic.update({key:val})\n",
        "print(dic)"
      ],
      "metadata": {
        "colab": {
          "base_uri": "https://localhost:8080/"
        },
        "id": "j-km1nhzaou4",
        "outputId": "6ab98bda-3457-4c0d-c889-b7214243c441"
      },
      "execution_count": null,
      "outputs": [
        {
          "output_type": "stream",
          "name": "stdout",
          "text": [
            "{'Ten': 10, 'Twenty': 20, 'Thirty': 30}\n"
          ]
        }
      ]
    },
    {
      "cell_type": "code",
      "source": [
        "#rint the value of key ‘history’ from the below dict\n",
        "sampleDict ={\"class\":\n",
        "             {\"student\":\n",
        "              {\"name\":\"Mike\", \n",
        "                 \"marks\":\n",
        "                    {\"physics\":70,\"history\":80} } \n",
        "              } \n",
        "              }\n",
        "print(sampleDict['class']['student']['marks']['history'])"
      ],
      "metadata": {
        "colab": {
          "base_uri": "https://localhost:8080/"
        },
        "id": "7G2kMcfmbo7x",
        "outputId": "733090f7-9625-490c-ef8e-8e95fe6f80c1"
      },
      "execution_count": null,
      "outputs": [
        {
          "output_type": "stream",
          "name": "stdout",
          "text": [
            "80\n"
          ]
        }
      ]
    },
    {
      "cell_type": "code",
      "source": [
        "#Initialize dictionary with default values\n",
        "employees = ['Kevin', 'Ana'] \n",
        "defaults = {\"designation\": 'Developer', \"salary\": 8000}\n",
        "deVal = dict.fromkeys(employees, defaults)\n",
        "print(deVal)\n"
      ],
      "metadata": {
        "colab": {
          "base_uri": "https://localhost:8080/"
        },
        "id": "JMrFp6kldCkA",
        "outputId": "751f9e9e-840b-45fe-bef7-fe99690931c4"
      },
      "execution_count": null,
      "outputs": [
        {
          "output_type": "stream",
          "name": "stdout",
          "text": [
            "{'Kevin': {'designation': 'Developer', 'salary': 8000}, 'Ana': {'designation': 'Developer', 'salary': 8000}}\n"
          ]
        }
      ]
    },
    {
      "cell_type": "code",
      "source": [
        "sample_dict = { \"name\": \"Kevin\", \"age\": 25, \"salary\": 8000, \"city\": \" Pune\"} \n",
        "keys = [\"name\", \"salary\"]\n",
        "new_dict = {k: sample_dict[k] for k in keys}\n",
        "print(new_dict)"
      ],
      "metadata": {
        "colab": {
          "base_uri": "https://localhost:8080/"
        },
        "id": "kbl2kR10ei6H",
        "outputId": "ceebef16-4326-460d-abb8-b5459ca98f91"
      },
      "execution_count": null,
      "outputs": [
        {
          "output_type": "stream",
          "name": "stdout",
          "text": [
            "{'name': 'Kevin', 'salary': 8000}\n"
          ]
        }
      ]
    },
    {
      "cell_type": "code",
      "source": [
        "sample_dict = { \"name\": \"Kevin\", \"age\": 25, \"salary\": 8000, \"city\": \" Pune\"} \n",
        "keys = [\"name\", \"salary\"]\n",
        "for k in keys:\n",
        "    sample_dict.pop(k)\n",
        "print(sample_dict)"
      ],
      "metadata": {
        "colab": {
          "base_uri": "https://localhost:8080/"
        },
        "id": "00QcA0R-fOyP",
        "outputId": "03378095-5655-4683-c74d-15951e9264c2"
      },
      "execution_count": null,
      "outputs": [
        {
          "output_type": "stream",
          "name": "stdout",
          "text": [
            "{'age': 25, 'city': ' Pune'}\n"
          ]
        }
      ]
    },
    {
      "cell_type": "code",
      "source": [
        "sample_dict = {'a': 100, 'b': 200, 'c': 300}\n",
        "for x in sample_dict.values():\n",
        "  if x==200:\n",
        "    print(\"Value exist in dictionary.\")\n"
      ],
      "metadata": {
        "colab": {
          "base_uri": "https://localhost:8080/"
        },
        "id": "DkCUf4g3fufn",
        "outputId": "bb91fbb5-ee3e-4946-97a2-c968717691b6"
      },
      "execution_count": null,
      "outputs": [
        {
          "output_type": "stream",
          "name": "stdout",
          "text": [
            "Value exist in dictionary.\n"
          ]
        }
      ]
    },
    {
      "cell_type": "code",
      "source": [
        "sample_dict = { \"name\": \"Kevin\", \"age\": 25, \"salary\": 8000, \"city\": \" Pune\"} \n",
        "sample_dict['location'] = sample_dict.pop('city')\n",
        "print(sample_dict)"
      ],
      "metadata": {
        "colab": {
          "base_uri": "https://localhost:8080/"
        },
        "id": "cLcpq00VgXFN",
        "outputId": "1aaf5d62-1b28-432b-8a7e-b2acd728f60d"
      },
      "execution_count": null,
      "outputs": [
        {
          "output_type": "stream",
          "name": "stdout",
          "text": [
            "{'name': 'Kevin', 'age': 25, 'salary': 8000, 'location': ' Pune'}\n"
          ]
        }
      ]
    },
    {
      "cell_type": "code",
      "source": [
        "dict1 = {'Ten': 10, 'Twenty': 20, 'Thirty': 30} \n",
        "dict2 = {'Thirty': 30, 'Fourty': 40, 'Fifty': 50}\n",
        "dict1.update(dict2)\n",
        "print(\"Merged Dictionary:\",dict1)"
      ],
      "metadata": {
        "colab": {
          "base_uri": "https://localhost:8080/"
        },
        "id": "-H37JGaNg75a",
        "outputId": "81f1f7a7-8331-4c5c-d8b5-a139f456b07e"
      },
      "execution_count": null,
      "outputs": [
        {
          "output_type": "stream",
          "name": "stdout",
          "text": [
            "Merged Dictionary: {'Ten': 10, 'Twenty': 20, 'Thirty': 30, 'Fourty': 40, 'Fifty': 50}\n"
          ]
        }
      ]
    },
    {
      "cell_type": "code",
      "source": [
        "min=100\n",
        "sample_dict = { 'Physics': 82, 'Math': 65, \n",
        "'history': 75 }\n",
        "for x in sample_dict.values():\n",
        "   if (x<min):\n",
        "     min=x\n",
        "print(\"Least Mark:\",min)"
      ],
      "metadata": {
        "colab": {
          "base_uri": "https://localhost:8080/"
        },
        "id": "maxaUDG7hSmF",
        "outputId": "75661eae-315f-42fd-ba3e-b0a783a12543"
      },
      "execution_count": null,
      "outputs": [
        {
          "output_type": "stream",
          "name": "stdout",
          "text": [
            "Least Mark: 65\n"
          ]
        }
      ]
    },
    {
      "cell_type": "code",
      "source": [
        "sample_dict = {'emp1':\n",
        "               {'name': 'Kevin', 'salary': 7500}, \n",
        "              'emp2': \n",
        "                {'name': 'Anna', 'salary': 8000}, \n",
        "               'emp3':\n",
        "                 {'name': 'Gopal', 'salary': 500} }\n",
        "print(\"Before Modification:\",sample_dict)\n",
        "sample_dict['emp3']['salary'] = 8500\n",
        "print(\"After Modification:\",sample_dict)"
      ],
      "metadata": {
        "colab": {
          "base_uri": "https://localhost:8080/"
        },
        "id": "7olWYMHyiCUI",
        "outputId": "4505ffca-802c-4d85-db15-39b94dcc0d56"
      },
      "execution_count": null,
      "outputs": [
        {
          "output_type": "stream",
          "name": "stdout",
          "text": [
            "Before Modification: {'emp1': {'name': 'Kevin', 'salary': 7500}, 'emp2': {'name': 'Anna', 'salary': 8000}, 'emp3': {'name': 'Gopal', 'salary': 500}}\n",
            "After Modification: {'emp1': {'name': 'Kevin', 'salary': 7500}, 'emp2': {'name': 'Anna', 'salary': 8000}, 'emp3': {'name': 'Gopal', 'salary': 8500}}\n"
          ]
        }
      ]
    },
    {
      "cell_type": "code",
      "source": [
        "l1=[2,4,6,2,8,9]\n",
        "set1={7,5}\n",
        "set1.update(l1)\n",
        "print(set1)\n"
      ],
      "metadata": {
        "colab": {
          "base_uri": "https://localhost:8080/"
        },
        "id": "76_5aCO0j7MS",
        "outputId": "7f09d545-6823-4b6b-a300-643abfc043e3"
      },
      "execution_count": null,
      "outputs": [
        {
          "output_type": "stream",
          "name": "stdout",
          "text": [
            "{2, 4, 5, 6, 7, 8, 9}\n"
          ]
        }
      ]
    },
    {
      "cell_type": "code",
      "source": [
        "#Return a new set of identical items from two sets\n",
        "set1={7,5,6,8,9}\n",
        "set2={1,4,6,8,0}\n",
        "set3=set1.intersection(set2)\n",
        "print(\"Identical elements from both sets:\",set3)"
      ],
      "metadata": {
        "colab": {
          "base_uri": "https://localhost:8080/"
        },
        "id": "hPKkvSyFkgNC",
        "outputId": "dbe30c06-b49e-4180-e1b3-43a468c41eba"
      },
      "execution_count": null,
      "outputs": [
        {
          "output_type": "stream",
          "name": "stdout",
          "text": [
            "Identical elements from both sets: {8, 6}\n"
          ]
        }
      ]
    },
    {
      "cell_type": "code",
      "source": [
        "set1={7,5,6,8,9}\n",
        "set2={1,4,6,8,0}\n",
        "set3=set1.union(set2)\n",
        "print(\"Unique elements from both sets:\",set3)"
      ],
      "metadata": {
        "colab": {
          "base_uri": "https://localhost:8080/"
        },
        "id": "AYAvLezNlxAW",
        "outputId": "337b9372-e99d-4a36-fff4-90635ebd0946"
      },
      "execution_count": null,
      "outputs": [
        {
          "output_type": "stream",
          "name": "stdout",
          "text": [
            "Unique elements from both sets: {0, 1, 4, 5, 6, 7, 8, 9}\n"
          ]
        }
      ]
    },
    {
      "cell_type": "code",
      "source": [
        "#Update the first set with items that don’t exist in the second set\n",
        "set1={7,5,6,8,9}\n",
        "set2={1,4,6,8,0}\n",
        "set3=set1.difference(set2)\n",
        "print(set3)"
      ],
      "metadata": {
        "colab": {
          "base_uri": "https://localhost:8080/"
        },
        "id": "qlyVxdkLmFXU",
        "outputId": "05b44237-225e-4034-dc60-67d4c009d059"
      },
      "execution_count": null,
      "outputs": [
        {
          "output_type": "stream",
          "name": "stdout",
          "text": [
            "{9, 5, 7}\n"
          ]
        }
      ]
    },
    {
      "cell_type": "code",
      "source": [
        "#Remove items from the set at once\n",
        "set1={7,5,6,8,9}\n",
        "set1.difference_update({7,5,6})\n",
        "print(set1)"
      ],
      "metadata": {
        "colab": {
          "base_uri": "https://localhost:8080/"
        },
        "id": "F0gwpA3Wm9IW",
        "outputId": "8f9dd2ea-6368-4129-ccd9-74fb3adcfe09"
      },
      "execution_count": null,
      "outputs": [
        {
          "output_type": "stream",
          "name": "stdout",
          "text": [
            "{8, 9}\n"
          ]
        }
      ]
    },
    {
      "cell_type": "code",
      "source": [
        "# Return a set of elements present in Set A or B, but not both\n",
        "setA={7,5,6,8,9}\n",
        "setB={1,4,6,8,0}\n",
        "setU=setA.union(setB)\n",
        "setI=setA.intersection(setB)\n",
        "setC=setU.difference(setI)\n",
        "print(setC)"
      ],
      "metadata": {
        "colab": {
          "base_uri": "https://localhost:8080/"
        },
        "id": "mEtSyBHUnYxs",
        "outputId": "70a3f0d8-4d47-4df3-e228-93378a1d6694"
      },
      "execution_count": null,
      "outputs": [
        {
          "output_type": "stream",
          "name": "stdout",
          "text": [
            "{0, 1, 4, 5, 7, 9}\n"
          ]
        }
      ]
    },
    {
      "cell_type": "code",
      "source": [
        "#Check if two sets have any elements in common. If yes, display the  common elements\n",
        "set1={7,5,6,8,9}\n",
        "set2={1,4,3,2,0}\n",
        "if set1.isdisjoint(set2):\n",
        "  print(\"Two sets have no items in common\")\n",
        "else:\n",
        "  print(\"Two sets have items in common\")\n",
        "  print(set1.intersection(set2))"
      ],
      "metadata": {
        "colab": {
          "base_uri": "https://localhost:8080/"
        },
        "id": "G1IWudepnjsa",
        "outputId": "f6a5f20e-b786-4b1e-debf-2b7f2c768472"
      },
      "execution_count": null,
      "outputs": [
        {
          "output_type": "stream",
          "name": "stdout",
          "text": [
            "Two sets have no items in common\n"
          ]
        }
      ]
    },
    {
      "cell_type": "code",
      "source": [
        "#Update set1 by adding items from set2, except common items\n",
        "set1={7,5,6,8,9}\n",
        "set2={1,4,6,8,0}\n",
        "set1.symmetric_difference_update(set2)  \n",
        "print(set1)"
      ],
      "metadata": {
        "colab": {
          "base_uri": "https://localhost:8080/"
        },
        "id": "a3SXs_C8o6Il",
        "outputId": "a1efab88-cd67-46b3-acb7-07c8874c2ae6"
      },
      "execution_count": null,
      "outputs": [
        {
          "output_type": "stream",
          "name": "stdout",
          "text": [
            "{0, 1, 4, 5, 7, 9}\n"
          ]
        }
      ]
    },
    {
      "cell_type": "code",
      "source": [
        "#Remove items from set1 that are not common to both set1 and set2\n",
        "set1={7,5,6,8,9}\n",
        "set2={1,4,6,8,0}\n",
        "set1.intersection_update(set2)\n",
        "print(set1)"
      ],
      "metadata": {
        "colab": {
          "base_uri": "https://localhost:8080/"
        },
        "id": "1wZafumGpq0l",
        "outputId": "432e65af-e253-422d-c865-a6990a9d1bbf"
      },
      "execution_count": null,
      "outputs": [
        {
          "output_type": "stream",
          "name": "stdout",
          "text": [
            "{8, 6}\n"
          ]
        }
      ]
    },
    {
      "cell_type": "code",
      "source": [
        "#Write a Python program to concatenate the following dic7onaries to create a new one: \n",
        "dic1={1:10, 2:20}\n",
        "dic2={3:30, 4:40}\n",
        "dic3={5:50, 6:60}\n",
        "dic4={}\n",
        "dic4.update(dic1)\n",
        "dic4.update(dic2)\n",
        "dic4.update(dic3)\n",
        "print(\"New Merged Dictionary:\", dic4)"
      ],
      "metadata": {
        "colab": {
          "base_uri": "https://localhost:8080/"
        },
        "id": "0wZHQYMsr4OH",
        "outputId": "2fa71f19-7be2-48f1-d0c2-9688ff8e18c1"
      },
      "execution_count": null,
      "outputs": [
        {
          "output_type": "stream",
          "name": "stdout",
          "text": [
            "New Merged Dictionary: {1: 10, 2: 20, 3: 30, 4: 40, 5: 50, 6: 60}\n"
          ]
        }
      ]
    },
    {
      "cell_type": "code",
      "source": [
        "#Write a Python program to remove a key from a dic7onary\n",
        "sample_dict = { \"name\": \"Kevin\", \"age\": 25, \"salary\": 8000, \"city\": \" Pune\"} \n",
        "sample_dict.pop(\"name\")\n",
        "print(sample_dict)\n",
        "\n"
      ],
      "metadata": {
        "colab": {
          "base_uri": "https://localhost:8080/"
        },
        "id": "qMMA1PjXtAVc",
        "outputId": "2ae692f3-a055-4f18-96df-d4a66471d822"
      },
      "execution_count": null,
      "outputs": [
        {
          "output_type": "stream",
          "name": "stdout",
          "text": [
            "{'age': 25, 'salary': 8000, 'city': ' Pune'}\n"
          ]
        }
      ]
    },
    {
      "cell_type": "code",
      "source": [
        "#Write a Python program to get a dic7onary's maximum and minimum values\n",
        "min=100\n",
        "max=0\n",
        "sample_dict = { 'Physics': 82, 'Math': 65, 'history': 75 }\n",
        "for x in sample_dict.values():\n",
        "   if (x<min):\n",
        "     min=x\n",
        "   if(x>max):\n",
        "     max=x\n",
        "    \n",
        "print(\"Least Mark:\",min)\n",
        "print(\"Highest Mark:\",max)"
      ],
      "metadata": {
        "colab": {
          "base_uri": "https://localhost:8080/"
        },
        "id": "dot1YWXgtk3j",
        "outputId": "add60493-0399-49ff-f423-5cea91a3df85"
      },
      "execution_count": null,
      "outputs": [
        {
          "output_type": "stream",
          "name": "stdout",
          "text": [
            "Least Mark: 65\n",
            "Highest Mark: 82\n"
          ]
        }
      ]
    },
    {
      "cell_type": "code",
      "source": [
        "#Write a Python program to find the sum of all items in a dic7onary.\n",
        "sample_dict = { 'Physics': 82, 'Math': 65, 'history': 75 }\n",
        "sum=0\n",
        "for x in sample_dict.values():\n",
        "  sum+=x\n",
        "print(sum)"
      ],
      "metadata": {
        "colab": {
          "base_uri": "https://localhost:8080/"
        },
        "id": "NoNRVwNhuEtH",
        "outputId": "4d3c6563-8b1e-4b35-f9bc-cc0c6cd6e2e7"
      },
      "execution_count": null,
      "outputs": [
        {
          "output_type": "stream",
          "name": "stdout",
          "text": [
            "222\n"
          ]
        }
      ]
    },
    {
      "cell_type": "markdown",
      "source": [],
      "metadata": {
        "id": "5sXYjdxKnjQb"
      }
    },
    {
      "cell_type": "code",
      "source": [
        "#Write a Python program to sort a dictonary by value\n",
        "sample_dict = { 'Physics': 82, 'Math': 65, 'history': 75 }\n",
        "val=list(sample_dict.values())\n",
        "val.sort()\n",
        "\n",
        "sorted_dict={}\n",
        "for x in val:\n",
        "  for y in sample_dict.values():\n",
        "    if (x==y):\n",
        "      sorted_dict\n",
        "\n",
        "  sorted_dict"
      ],
      "metadata": {
        "colab": {
          "base_uri": "https://localhost:8080/",
          "height": 200
        },
        "id": "IXwG9e-quZ_7",
        "outputId": "70ecbfdb-11a1-4f74-8618-98f9d85a773e"
      },
      "execution_count": null,
      "outputs": [
        {
          "output_type": "error",
          "ename": "KeyError",
          "evalue": "ignored",
          "traceback": [
            "\u001b[0;31m---------------------------------------------------------------------------\u001b[0m",
            "\u001b[0;31mKeyError\u001b[0m                                  Traceback (most recent call last)",
            "\u001b[0;32m<ipython-input-82-8c4d4452066d>\u001b[0m in \u001b[0;36m<cell line: 6>\u001b[0;34m()\u001b[0m\n\u001b[1;32m      5\u001b[0m \u001b[0msorted_dict\u001b[0m\u001b[0;34m=\u001b[0m\u001b[0;34m{\u001b[0m\u001b[0;34m}\u001b[0m\u001b[0;34m\u001b[0m\u001b[0;34m\u001b[0m\u001b[0m\n\u001b[1;32m      6\u001b[0m \u001b[0;32mfor\u001b[0m \u001b[0mi\u001b[0m \u001b[0;32min\u001b[0m \u001b[0mval\u001b[0m\u001b[0;34m:\u001b[0m\u001b[0;34m\u001b[0m\u001b[0;34m\u001b[0m\u001b[0m\n\u001b[0;32m----> 7\u001b[0;31m   \u001b[0msorted_dict\u001b[0m\u001b[0;34m=\u001b[0m\u001b[0msample_dict\u001b[0m\u001b[0;34m[\u001b[0m\u001b[0mi\u001b[0m\u001b[0;34m]\u001b[0m\u001b[0;34m\u001b[0m\u001b[0;34m\u001b[0m\u001b[0m\n\u001b[0m",
            "\u001b[0;31mKeyError\u001b[0m: 65"
          ]
        }
      ]
    },
    {
      "cell_type": "code",
      "source": [
        "sample_dict = { 'Physics': 82, 'Math': 65, 'history': 75 }\n",
        "sorted_dict={}\n",
        "sorted_dict=sorted(sample_dict.items(), key=lambda x:x[1])\n",
        "print(\"Original Dictionary: \",sample_dict)\n",
        "print(\"Sorted Dictionary: \",sorted_dict)"
      ],
      "metadata": {
        "colab": {
          "base_uri": "https://localhost:8080/"
        },
        "id": "ciPlVXRkyvcm",
        "outputId": "96e23921-37dc-4c56-d97e-b8f325a8fb34"
      },
      "execution_count": null,
      "outputs": [
        {
          "output_type": "stream",
          "name": "stdout",
          "text": [
            "Original Dictionary:  {'Physics': 82, 'Math': 65, 'history': 75}\n",
            "Sorted Dictionary:  [('Math', 65), ('history', 75), ('Physics', 82)]\n"
          ]
        }
      ]
    },
    {
      "cell_type": "code",
      "source": [
        "#Write a Python program to check whether a given key already exists in a dic7onary.\n",
        "sample_dict = { 'Physics': 82, 'Math': 65, 'history': 75 }\n",
        "num=len(sample_dict.items())\n",
        "print(\"Number of items in the dictionary:\",num)"
      ],
      "metadata": {
        "colab": {
          "base_uri": "https://localhost:8080/"
        },
        "id": "YjyZ85O30TJg",
        "outputId": "0fb7f448-d2d5-42cd-fd7c-1af21bdcbddd"
      },
      "execution_count": null,
      "outputs": [
        {
          "output_type": "stream",
          "name": "stdout",
          "text": [
            "3\n"
          ]
        }
      ]
    },
    {
      "cell_type": "code",
      "source": [
        "#Write a Python program to print all unique values in a dic7onary\n",
        "sample_dict = { 'Physics': 82, 'Math': 75, 'History': 75 }\n",
        "l1=list(sample_dict.items())\n",
        "uniVal=[]\n",
        "for dic in l1:\n",
        "  for val in sample_dict.values():\n",
        "     uniVal.append(val)\n",
        "uniVal=set(uniVal)\n",
        "print(\"Unique Key Values:\",uniVal)"
      ],
      "metadata": {
        "colab": {
          "base_uri": "https://localhost:8080/"
        },
        "id": "uz2SGin41V8y",
        "outputId": "49f94fa8-02da-48ba-8c38-61edefb0383e"
      },
      "execution_count": null,
      "outputs": [
        {
          "output_type": "stream",
          "name": "stdout",
          "text": [
            "Unique Key Values: {82, 75}\n"
          ]
        }
      ]
    },
    {
      "cell_type": "code",
      "source": [
        "#Write a Python program to count the number of items in a dic7onary\n"
      ],
      "metadata": {
        "id": "g3Sv_2Vv08Nb"
      },
      "execution_count": null,
      "outputs": []
    },
    {
      "cell_type": "code",
      "source": [
        "import matplotlib.pyplot as plt\n",
        "import numpy as np\n",
        "x=np.array([1,2,6,7,5])\n",
        "y=np.random.rand(5)\n",
        "plt.barh(x,y,color='green')\n",
        "plt.show()"
      ],
      "metadata": {
        "colab": {
          "base_uri": "https://localhost:8080/",
          "height": 430
        },
        "id": "r0EHyXKP5z3b",
        "outputId": "7d20c7ba-a6a6-44e6-d4ef-6fbc4b569def"
      },
      "execution_count": null,
      "outputs": [
        {
          "output_type": "display_data",
          "data": {
            "text/plain": [
              "<Figure size 640x480 with 1 Axes>"
            ],
            "image/png": "[encoded data removed]"
          },
          "metadata": {}
        }
      ]
    },
    {
      "cell_type": "code",
      "source": [
        "import matplotlib.pyplot as plt\n",
        "import numpy as np\n",
        "x=np.random.rand(100)\n",
        "plt.hist(x,bins=20,color='green')\n",
        "plt.show()"
      ],
      "metadata": {
        "colab": {
          "base_uri": "https://localhost:8080/",
          "height": 430
        },
        "id": "M8l8c_J-8Ub7",
        "outputId": "1e4cd57e-af19-4f6c-ce0b-7830c4220b99"
      },
      "execution_count": null,
      "outputs": [
        {
          "output_type": "display_data",
          "data": {
            "text/plain": [
              "<Figure size 640x480 with 1 Axes>"
            ],
            "image/png": "[encoded data removed]"
          },
          "metadata": {}
        }
      ]
    },
    {
      "cell_type": "code",
      "source": [
        "#input dictionary , and search for key using functions\n",
        "dict={}\n",
        "def get_data():\n",
        "    x=1\n",
        "    keys=[]\n",
        "    values=[]\n",
        "    while(x!=0):\n",
        "        key=input(\"Enter key:\")\n",
        "        keys.append(key)\n",
        "        val=input(\"Enter values:\")\n",
        "        values.append(val)\n",
        "        x=int(input(\"Continue?(0/1)\"))\n",
        "    for key,val in zip(keys,values):\n",
        "        dict.update({key:val})\n",
        "    return dict\n",
        "def search_key(k):\n",
        "    for key in dict.keys():\n",
        "        if key==k:\n",
        "            print(\"Element is found at:\",dict[key])\n",
        "        else:\n",
        "            print(\"Element is not found\")\n",
        "get_data()\n",
        "k=input(\"Enter element to search for:\")\n",
        "search_key(k)"
      ],
      "metadata": {
        "id": "4uznTfPHrbCW"
      },
      "execution_count": null,
      "outputs": []
    },
    {
      "cell_type": "code",
      "source": [
        "#sort dictionary\n",
        "x=1\n",
        "keys=[]\n",
        "values=[]\n",
        "while(x!=0):\n",
        "    key=input(\"Enter the keys of the dictionary:\")\n",
        "    keys.append(key)\n",
        "    val=input(\"Enter the value of the dictionary:\")\n",
        "    values.append(val)\n",
        "    x=int(input(\"continue?(0/1)\"))\n",
        "d1={}\n",
        "d2={}\n",
        "for key,val in zip(keys,values):\n",
        "        d1.update({key:val})\n",
        "print(d1)\n",
        "d2=sorted(d1.items(),key= lambda x:x[1])\n",
        "print(d2)"
      ],
      "metadata": {
        "id": "6tslHSjlri1M"
      },
      "execution_count": null,
      "outputs": []
    }
  ]
}