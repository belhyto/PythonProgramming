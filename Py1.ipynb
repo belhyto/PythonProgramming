{
  "nbformat": 4,
  "nbformat_minor": 0,
  "metadata": {
    "colab": {
      "provenance": [],
      "authorship_tag": "ABX9TyPx1DjbE7i7QhlAcKdP3SFc",
      "include_colab_link": true
    },
    "kernelspec": {
      "name": "python3",
      "display_name": "Python 3"
    },
    "language_info": {
      "name": "python"
    }
  },
  "cells": [
    {
      "cell_type": "markdown",
      "metadata": {
        "id": "view-in-github",
        "colab_type": "text"
      },
      "source": [
        "<a href=\"https://colab.research.google.com/github/belhyto/PythonProgramming/blob/master/Py1.ipynb\" target=\"_parent\"><img src=\"https://colab.research.google.com/assets/colab-badge.svg\" alt=\"Open In Colab\"/></a>"
      ]
    },
    {
      "cell_type": "code",
      "execution_count": null,
      "metadata": {
        "colab": {
          "base_uri": "https://localhost:8080/",
          "height": 282
        },
        "id": "n6e-2NDZLj2q",
        "outputId": "b2a81bb9-c2ed-4f34-fbe9-1552fca428c3"
      },
      "outputs": [
        {
          "output_type": "stream",
          "name": "stdout",
          "text": [
            "Graph using 2 lists\n"
          ]
        },
        {
          "output_type": "display_data",
          "data": {
            "text/plain": [
              "<Figure size 432x288 with 1 Axes>"
            ],
            "image/png": "[encoded data removed]"
          },
          "metadata": {
            "needs_background": "light"
          }
        }
      ],
      "source": [
        "import matplotlib.pyplot as plt \n",
        "print(\"Graph using 2 lists\")\n",
        "x=[1,4,5,8]\n",
        "y=[7,4,6,9]\n",
        "plt.plot(x,y)\n",
        "plt.show()"
      ]
    },
    {
      "cell_type": "code",
      "source": [
        "m=int(input(\"First number\"))\n",
        "n=int(input(\"Second number\"))\n",
        "\n",
        "print(\"Greatest number is: \")\n",
        "if (m>n) :\n",
        "       print(m)\n",
        "else :\n",
        "      print(n) "
      ],
      "metadata": {
        "colab": {
          "base_uri": "https://localhost:8080/"
        },
        "id": "GQfmqeCDXdYA",
        "outputId": "41ad0a13-7075-4cf2-cc8d-580561e916cc"
      },
      "execution_count": null,
      "outputs": [
        {
          "output_type": "stream",
          "name": "stdout",
          "text": [
            "First number3\n",
            "Second number4\n",
            "Greatest number is: \n",
            "4\n"
          ]
        }
      ]
    },
    {
      "cell_type": "code",
      "source": [
        "#Write a python program to find the GCD of two numbers\n",
        "x=int(input(\"Enter first number:\"))\n",
        "y=int(input(\"Enter second number:\"))\n",
        "z=x+y\n",
        "print(z)"
      ],
      "metadata": {
        "colab": {
          "base_uri": "https://localhost:8080/"
        },
        "id": "6FSf_PBsNPP5",
        "outputId": "38ac60a7-6a8a-40cd-c87f-be04b9df41a0"
      },
      "execution_count": null,
      "outputs": [
        {
          "output_type": "stream",
          "name": "stdout",
          "text": [
            "Enter first number:3\n",
            "Enter second number:6\n",
            "9\n"
          ]
        }
      ]
    },
    {
      "cell_type": "code",
      "source": [
        "import math\n",
        "x=int(input(\"Enter first number:\"))\n",
        "y=int(input(\"Enter second number:\"))\n",
        "print(\"The GCD of the following numbers are:\", math.gcd(x, y))"
      ],
      "metadata": {
        "colab": {
          "base_uri": "https://localhost:8080/"
        },
        "id": "FaKtCuzMNtMl",
        "outputId": "bcd98e3d-1fec-45dd-f01f-a930c670dbeb"
      },
      "execution_count": null,
      "outputs": [
        {
          "output_type": "stream",
          "name": "stdout",
          "text": [
            "Enter first number:60\n",
            "Enter second number:48\n",
            "The GCD of the following numbers are: 12\n"
          ]
        }
      ]
    },
    {
      "cell_type": "code",
      "source": [
        "#Write a python program to check whether the entered number is a palindrome or not\n",
        "x=input(\"Enter the number:\")\n",
        "pal = x == x[::-1]\n",
        "\n",
        "if str(pal)==\"True\":\n",
        "    print (x, \" is a palindrome number.\")\n",
        "else: \n",
        "    print (x, \" is not a palindrome number.\")"
      ],
      "metadata": {
        "colab": {
          "base_uri": "https://localhost:8080/"
        },
        "id": "r3fErOJmORvi",
        "outputId": "e5ab617b-0e00-462e-87fa-0588ad54ff95"
      },
      "execution_count": 1,
      "outputs": [
        {
          "output_type": "stream",
          "name": "stdout",
          "text": [
            "Enter the number:313\n",
            "313  is a palindrome number.\n"
          ]
        }
      ]
    },
    {
      "cell_type": "code",
      "source": [
        "#Write a python program to design a function to calculate the sum of a list's integer elements\n",
        "l = []\n",
        "n=int(input(\"Enter number of elements:\"))\n",
        "print(\"Enter elements of the list:\")\n",
        "for i in range(n):\n",
        "    l.append(int(input()))\n",
        "\n",
        "print(l)\n",
        "\n",
        "def sumCal(l):\n",
        "  sum=0\n",
        "  for i in l:\n",
        "        sum += i\n",
        "  return sum\n",
        "\n",
        "print(\"The sum of the elements in the list=\",sumCal(l))\n"
      ],
      "metadata": {
        "colab": {
          "base_uri": "https://localhost:8080/"
        },
        "id": "w1OzWHdlRCnV",
        "outputId": "2e6a31f3-0680-4d15-cb07-1ca07ea1574f"
      },
      "execution_count": null,
      "outputs": [
        {
          "output_type": "stream",
          "name": "stdout",
          "text": [
            "Enter number of elements:3\n",
            "Enter elements of the list:\n",
            "1\n",
            "2\n",
            "3\n",
            "[1, 2, 3]\n",
            "The sum of the elements in the list= 6\n"
          ]
        }
      ]
    },
    {
      "cell_type": "code",
      "source": [
        "#Write a python program using the function to perform the multiplication of two matrices\n",
        "\n",
        "col = int(input(\"Enter no. of columns: \"))\n",
        "row = int(input(\"Enter no. of rows: \"))\n",
        "\n",
        "mul = [ [0]*col for i in range(row)]\n",
        "\n",
        "print(\"Enter elements of Matrix 1:\")\n",
        "a1 = []\n",
        "for i in range(row):        \n",
        "    a =[]\n",
        "    for j in range(col):    \n",
        "         a.append(int(input()))\n",
        "    a1.append(a)\n",
        "\n",
        "print(\"Enter elements of Matrix 2:\")\n",
        "b1 = []\n",
        "for i in range(row):        \n",
        "    b =[]\n",
        "    for j in range(col):    \n",
        "         b.append(int(input()))\n",
        "    b1.append(b)\n",
        "\n",
        "for i in range(len(a1)):   \n",
        "    \n",
        "    for j in range(len(b1[0])):\n",
        "        \n",
        "      for k in range(len(b1)):\n",
        "        mul[i][j] += a1[i][k] * b1[k][j]\n",
        "\n",
        "for x in mul:\n",
        "    print(x)\n",
        "\n"
      ],
      "metadata": {
        "colab": {
          "base_uri": "https://localhost:8080/"
        },
        "id": "avWQJwlSVDZv",
        "outputId": "30d4d4f0-fca6-40ee-d917-fa97714cabe5"
      },
      "execution_count": null,
      "outputs": [
        {
          "output_type": "stream",
          "name": "stdout",
          "text": [
            "Enter no. of columns: 3\n",
            "Enter no. of rows: 3\n",
            "Enter elements of Matrix 1:\n",
            "1\n",
            "2\n",
            "3\n",
            "4\n",
            "5\n",
            "6\n",
            "7\n",
            "8\n",
            "9\n",
            "Enter elements of Matrix 2:\n",
            "1\n",
            "2\n",
            "3\n",
            "4\n",
            "5\n",
            "6\n",
            "7\n",
            "8\n",
            "9\n",
            "[30, 36, 42]\n",
            "[66, 81, 96]\n",
            "[102, 126, 150]\n"
          ]
        }
      ]
    },
    {
      "cell_type": "markdown",
      "source": [
        "# TUPLE **PROGRAMS**"
      ],
      "metadata": {
        "id": "begVHfEsNZWG"
      }
    },
    {
      "cell_type": "code",
      "source": [
        "#Write a python program to access value 20 from the tuple\n",
        "def findNum(tup):\n",
        "    for x in tup:\n",
        "          if (x==20):\n",
        "                  print(x)\n",
        "                  print(\"Position of 20:\",tup.index(x))\n",
        "\n",
        "tup = tuple(input(\"enter tuple\").split(' '))\n",
        "print(tup)   \n",
        "print(findNum(tup))"
      ],
      "metadata": {
        "colab": {
          "base_uri": "https://localhost:8080/"
        },
        "id": "0vuCuVasOva4",
        "outputId": "7cb89c77-7a2f-4126-b545-746720325116"
      },
      "execution_count": 2,
      "outputs": [
        {
          "output_type": "stream",
          "name": "stdout",
          "text": [
            "enter tuple3 20 4\n",
            "('3', '20', '4')\n",
            "None\n"
          ]
        }
      ]
    },
    {
      "cell_type": "markdown",
      "source": [],
      "metadata": {
        "id": "U1MTcytDT9lL"
      }
    },
    {
      "cell_type": "code",
      "source": [
        "\n",
        "myTuple = (\"Ram\", 23, 10, \"Dara\", 17, \"Raju\")\n",
        "myElement = 23\n",
        "for t in myTuple:\n",
        "    if t == myElement:\n",
        "         print(\"index of given element\", t, \"is: \", myTuple.index(t));\n"
      ],
      "metadata": {
        "colab": {
          "base_uri": "https://localhost:8080/"
        },
        "id": "AQcJpEMxUHLN",
        "outputId": "c4d3fdb1-5ca6-48c2-c519-e14c886a7cf7"
      },
      "execution_count": null,
      "outputs": [
        {
          "output_type": "stream",
          "name": "stdout",
          "text": [
            "index of given element 23 is:  1\n"
          ]
        }
      ]
    },
    {
      "cell_type": "code",
      "source": [
        "#Write a python program to access value 20 from the tuple\n",
        "tup = tuple(input(\"enter tuple: \").split( ))\n",
        "n='20'\n",
        "print(\"postion of 20:\",tup.index(n))"
      ],
      "metadata": {
        "colab": {
          "base_uri": "https://localhost:8080/"
        },
        "id": "LbUUnLvgRijS",
        "outputId": "a1dc9832-8a59-4ad1-8c86-947852c94079"
      },
      "execution_count": null,
      "outputs": [
        {
          "output_type": "stream",
          "name": "stdout",
          "text": [
            "enter tuple: 3 4 2 30 20 t7 48\n",
            "postion of 20: 4\n"
          ]
        }
      ]
    },
    {
      "cell_type": "code",
      "source": [],
      "metadata": {
        "id": "uKVDAmSFNGaK"
      },
      "execution_count": null,
      "outputs": []
    },
    {
      "cell_type": "code",
      "source": [
        "tup = (50,)\n",
        "print(tup)\n",
        "print(type(tup))\n",
        "         "
      ],
      "metadata": {
        "colab": {
          "base_uri": "https://localhost:8080/"
        },
        "id": "Pgw7frRWYMrh",
        "outputId": "e9017221-1896-4318-a9d3-749450bbe2ea"
      },
      "execution_count": null,
      "outputs": [
        {
          "output_type": "stream",
          "name": "stdout",
          "text": [
            "(50,)\n",
            "<class 'tuple'>\n"
          ]
        }
      ]
    },
    {
      "cell_type": "code",
      "source": [
        "#Write a python program to reverse the tuple\n",
        "def Reverse(tup):\n",
        "    rev_tup = tup[::-1]\n",
        "    print (rev_tup)\n",
        "\n",
        "tup = tuple(input(\"enter tuple: \").split(' '))\n",
        "print(tup)   \n",
        "Reverse(tup) "
      ],
      "metadata": {
        "colab": {
          "base_uri": "https://localhost:8080/"
        },
        "id": "TVjj3KBIWTc_",
        "outputId": "ce99cacf-d893-4061-a11c-6df64faff683"
      },
      "execution_count": null,
      "outputs": [
        {
          "output_type": "stream",
          "name": "stdout",
          "text": [
            "enter tuple: 5 3 7 f t 8\n",
            "('5', '3', '7', 'f', 't', '8')\n",
            "('8', 't', 'f', '7', '3', '5')\n"
          ]
        }
      ]
    },
    {
      "cell_type": "code",
      "source": [
        "#Write a python program to unpack the tuple into 4 variables\n",
        "tup=(3,\"Red\",\"Square\",5.3)\n",
        "(num, color, shape, fl)=tup\n",
        "print(num)\n",
        "print(color)\n",
        "print(shape)\n",
        "print(fl)"
      ],
      "metadata": {
        "colab": {
          "base_uri": "https://localhost:8080/"
        },
        "id": "yOl8Yo4bXfIg",
        "outputId": "1e7b4aa3-f246-4eaa-bf7d-f4278fbab32a"
      },
      "execution_count": null,
      "outputs": [
        {
          "output_type": "stream",
          "name": "stdout",
          "text": [
            "3\n",
            "Red\n",
            "Square\n",
            "5.3\n"
          ]
        }
      ]
    },
    {
      "cell_type": "code",
      "source": [
        "str = str (input(\"Enter string with commas: \"))\n",
        "list = str.split (\",\")\n",
        "print(\"list: \", list)"
      ],
      "metadata": {
        "colab": {
          "base_uri": "https://localhost:8080/"
        },
        "id": "gfEBgBOtVwwr",
        "outputId": "90173acf-9a7e-41e0-ef16-c7c74ea05812"
      },
      "execution_count": null,
      "outputs": [
        {
          "output_type": "stream",
          "name": "stdout",
          "text": [
            "Enter string with commas: a,b,c\n",
            "list:  ['a', 'b', 'c']\n"
          ]
        }
      ]
    },
    {
      "cell_type": "code",
      "source": [
        "#Write a python program to swap two tuples in Python\n",
        "tup1 = tuple(input(\"enter 1st tuple: \").split(' '))\n",
        "tup2 = tuple(input(\"enter 2nd tuple: \").split(' '))\n",
        "print(\"1st tuple before swapping: \",tup1)\n",
        "print(\"2nd tuple before swapping: \",tup2)\n",
        "tup1, tup2=tup2, tup1\n",
        "print(\"1st tuple after swapping: \",tup1)\n",
        "print(\"2nd tuple after swapping: \",tup2)"
      ],
      "metadata": {
        "colab": {
          "base_uri": "https://localhost:8080/"
        },
        "id": "Dn1VI9bvbocN",
        "outputId": "ddb69309-08f9-4109-d452-a3ef2be80d8f"
      },
      "execution_count": null,
      "outputs": [
        {
          "output_type": "stream",
          "name": "stdout",
          "text": [
            "enter 1st tuple: q w e r 4 5 6\n",
            "enter 2nd tuple: 8 7 5 b g h\n",
            "1st tuple before swapping:  ('q', 'w', 'e', 'r', '4', '5', '6')\n",
            "2nd tuple before swapping:  ('8', '7', '5', 'b', 'g', 'h')\n",
            "1st tuple after swapping:  ('8', '7', '5', 'b', 'g', 'h')\n",
            "2nd tuple after swapping:  ('q', 'w', 'e', 'r', '4', '5', '6')\n"
          ]
        }
      ]
    },
    {
      "cell_type": "code",
      "source": [
        "#Copy specific elements from one tuple to a new tuple\n",
        "tup = tuple(input(\"enter tuple: \").split( ))\n",
        "print(\"enter elements to copy: \")\n",
        "n=int(input())"
      ],
      "metadata": {
        "id": "Zt2Ws2Eic78d"
      },
      "execution_count": null,
      "outputs": []
    },
    {
      "cell_type": "markdown",
      "source": [
        "# **LIST PROGRAMS**"
      ],
      "metadata": {
        "id": "B2QhA_nhNIHR"
      }
    },
    {
      "cell_type": "code",
      "source": [
        "#Write a python program to reverse a list in Python\n",
        "l = []\n",
        "n=int(input(\"Enter number of elements:\"))\n",
        "print(\"Enter elements of the list:\")\n",
        "for i in range(n):\n",
        "    l.append(int(input()))\n",
        "print(\"The list:\", l)\n",
        "l.reverse()\n",
        "print(\"The reversed list:\", l)\n",
        "\n"
      ],
      "metadata": {
        "colab": {
          "base_uri": "https://localhost:8080/"
        },
        "id": "rZuCn8bONH0R",
        "outputId": "45b20bc8-04ed-4ffd-e6b7-e2d2a2538dce"
      },
      "execution_count": null,
      "outputs": [
        {
          "output_type": "stream",
          "name": "stdout",
          "text": [
            "Enter number of elements:4\n",
            "Enter elements of the list:\n",
            "3\n",
            "5\n",
            "6\n",
            "6\n",
            "The list: [3, 5, 6, 6]\n",
            "The reversed list: [6, 6, 5, 3]\n"
          ]
        }
      ]
    },
    {
      "cell_type": "code",
      "source": [
        "#Write a python program to concatenate two lists index-wise. (num)\n",
        "l1=[1,2,3,4]\n",
        "l2=[6,8,4,0]\n",
        "l3=[]\n",
        "for i in range(len(l1)):\n",
        "  l3.append(l1[i]+l2[i])\n",
        "print(\"The appened list:\", l3)"
      ],
      "metadata": {
        "colab": {
          "base_uri": "https://localhost:8080/"
        },
        "id": "EMGHTHmaNHoG",
        "outputId": "82eec91c-0e27-4003-9b98-1f0fb586d5ca"
      },
      "execution_count": null,
      "outputs": [
        {
          "output_type": "stream",
          "name": "stdout",
          "text": [
            "The appened list: [7, 10, 7, 4]\n"
          ]
        }
      ]
    },
    {
      "cell_type": "code",
      "source": [
        "n=int(input(\"Enter number of elements:\"))\n",
        "l1=[]\n",
        "l2=[]\n",
        "l3=[]\n",
        "print(\"Enter elements of first list:\")\n",
        "for i in range(n):\n",
        "    l1.append((input()))\n",
        "\n",
        "print(\"Enter elements of second list:\")\n",
        "for i in range(n):\n",
        "    l2.append((input()))\n",
        "\n",
        "for i in range(len(l1)):\n",
        "  l3.append(l1[i]+l2[i])\n",
        "print(\"The appened list:\", l3)"
      ],
      "metadata": {
        "colab": {
          "base_uri": "https://localhost:8080/"
        },
        "id": "G9rjsh5QR03n",
        "outputId": "96161e18-fdd0-4728-fc9a-c7db3f068feb"
      },
      "execution_count": null,
      "outputs": [
        {
          "output_type": "stream",
          "name": "stdout",
          "text": [
            "Enter number of elements:4\n",
            "Enter elements of first list:\n",
            "1\n",
            "2\n",
            "3\n",
            "4\n",
            "Enter elements of second list:\n",
            "5\n",
            "6\n",
            "7\n",
            "7\n",
            "The appened list: ['15', '26', '37', '47']\n"
          ]
        }
      ]
    },
    {
      "cell_type": "code",
      "source": [
        "#Write a python program to turn every item on a list into its square\n",
        "n=int(input(\"Enter number of elements:\"))\n",
        "l1=[]\n",
        "l2=[]\n",
        "print(\"Enter elements of the list:\")\n",
        "for i in range(n):\n",
        "    l1.append(int(input()))\n",
        "  \n",
        "def printPow(l1):\n",
        "     for x in l1:\n",
        "       x=x*x\n",
        "       l2.append(x)\n",
        "     print(l2)\n",
        "printPow(l1)"
      ],
      "metadata": {
        "colab": {
          "base_uri": "https://localhost:8080/"
        },
        "id": "Hl7G2mNmSr6K",
        "outputId": "47e79d35-6ed7-4dbe-93c5-f80d899a46dc"
      },
      "execution_count": null,
      "outputs": [
        {
          "output_type": "stream",
          "name": "stdout",
          "text": [
            "Enter number of elements:3\n",
            "Enter elements of the list:\n",
            "1\n",
            "7\n",
            "5\n",
            "[1, 49, 25]\n"
          ]
        }
      ]
    },
    {
      "cell_type": "code",
      "source": [
        "#Write a python program to iterate both lists simultaneously\n",
        "l1=[1,2,3,4]\n",
        "l2=[6,8,4,0]\n",
        "for (x,y) in zip(l1,l2):\n",
        "  print(x,y)\n"
      ],
      "metadata": {
        "colab": {
          "base_uri": "https://localhost:8080/"
        },
        "id": "Gq_XbwOmV8vs",
        "outputId": "abff08d3-bc8c-4887-f4c6-73e56a8baf9e"
      },
      "execution_count": null,
      "outputs": [
        {
          "output_type": "stream",
          "name": "stdout",
          "text": [
            "1 6\n",
            "2 8\n",
            "3 4\n",
            "4 0\n"
          ]
        }
      ]
    },
    {
      "cell_type": "code",
      "source": [
        "#Write a python program to remove empty strings from the list of strings\n",
        "l=[\"Roshni\",\"\",\"Sahoo\"]\n",
        "print(\"List:\",l)\n",
        "for i in range(len(l)-1):\n",
        "    if (l[i]==\"\"):\n",
        "      del l[i]\n",
        "print(\"Modified list:\",l)\n",
        "     "
      ],
      "metadata": {
        "colab": {
          "base_uri": "https://localhost:8080/"
        },
        "id": "rjPtMIS6XFth",
        "outputId": "d28911df-9178-4751-f1ca-39bb0f7d9d7c"
      },
      "execution_count": null,
      "outputs": [
        {
          "output_type": "stream",
          "name": "stdout",
          "text": [
            "List: ['Roshni', '', 'Sahoo']\n",
            "Modified list: ['Roshni', 'Sahoo']\n"
          ]
        }
      ]
    },
    {
      "cell_type": "code",
      "source": [
        "#Write a python program to add a new item to the list after a specified item\n",
        "l=[]\n",
        "n=int(input(\"Enter number of elements:\"))\n",
        "print(\"Enter elements of list:\")\n",
        "for i in range(n):\n",
        "    l.append((input()))\n",
        "print(\"List:\",l)\n",
        "new_item=input(\"Enter new item to add to list:\")\n",
        "prev_item=input(\"Enter the item before the new item:\")\n",
        "for i in range(len(l)):\n",
        "    if (l[i]==prev_item):\n",
        "      l.insert(i+1, new_item)\n",
        "print(\"Modified list:\",l)"
      ],
      "metadata": {
        "colab": {
          "base_uri": "https://localhost:8080/"
        },
        "id": "W_1YGXxQZb0c",
        "outputId": "acc29051-6c6b-40e4-9142-785e85564afb"
      },
      "execution_count": null,
      "outputs": [
        {
          "output_type": "stream",
          "name": "stdout",
          "text": [
            "Enter number of elements:6\n",
            "Enter elements of list:\n",
            "R\n",
            "o\n",
            "s\n",
            "h\n",
            "n\n",
            "i\n",
            "List: ['R', 'o', 's', 'h', 'n', 'i']\n",
            "Enter new item to add to list:S\n",
            "Enter the item before the new item:i\n",
            "Modified list: ['R', 'o', 's', 'h', 'n', 'i', 'S']\n"
          ]
        }
      ]
    },
    {
      "cell_type": "code",
      "source": [
        "#Write a python program to extend the nested list by adding the sublist\n",
        "nestedList=[\"DM\", \"TAC\", [\"OS\", [\"CG\",[\"PP\", \"WP\"]]]] \n",
        "sublist=[\"CSS\",\"FL\",\"MT\"] \n",
        "nestedList[2][1][1].extend(sublist)\n",
        "print(nestedList)"
      ],
      "metadata": {
        "colab": {
          "base_uri": "https://localhost:8080/"
        },
        "id": "Kdi3SXj7gss9",
        "outputId": "8c1b9da0-5b9d-4761-df64-479f6e67dc1f"
      },
      "execution_count": null,
      "outputs": [
        {
          "output_type": "stream",
          "name": "stdout",
          "text": [
            "['DM', 'TAC', ['OS', ['CG', ['PP', 'WP', 'CSS', 'FL', 'MT']]]]\n"
          ]
        }
      ]
    },
    {
      "cell_type": "code",
      "source": [
        "#Write a python program to replace the list’s item with a new value if found\n",
        "l=[]\n",
        "n=int(input(\"Enter number of elements:\"))\n",
        "print(\"Enter elements of list:\")\n",
        "for i in range(n):\n",
        "    l.append((input()))\n",
        "print(\"List:\",l)\n",
        "old_item=input(\"Enter element to change:\")\n",
        "new_item=input(\"Enter new element:\")\n",
        "\n",
        "for i in range(len(l)):\n",
        "    if(l[i]==old_item):\n",
        "        l[i]=new_item\n",
        "\n",
        "print(\"Modified list:\",l)"
      ],
      "metadata": {
        "colab": {
          "base_uri": "https://localhost:8080/"
        },
        "id": "vvWo1Gx8j1Qr",
        "outputId": "b95dec46-3bc1-4b96-c038-52a9eb6d06d0"
      },
      "execution_count": null,
      "outputs": [
        {
          "output_type": "stream",
          "name": "stdout",
          "text": [
            "Enter number of elements:4\n",
            "Enter elements of list:\n",
            "a\n",
            "b\n",
            "c\n",
            "d\n",
            "List: ['a', 'b', 'c', 'd']\n",
            "Enter element to change:c\n",
            "Enter new element:o\n",
            "Modified list: ['a', 'b', 'o', 'd']\n"
          ]
        }
      ]
    },
    {
      "cell_type": "code",
      "source": [
        "#Write a python program to remove all occurrences of a specific item from a list\n",
        "l=[]\n",
        "n=int(input(\"Enter number of elements:\"))\n",
        "print(\"Enter elements of list:\")\n",
        "for i in range(n):\n",
        "    l.append((input()))\n",
        "print(\"List:\",l)\n",
        "del_item=\"e\"\n",
        "#del_item=input(\"Enter element to delete:\")\n",
        "for i in range(len(l)-1):\n",
        "  if(l[i]==del_item):\n",
        "    l.remove(l[i])\n",
        "print(\"Modified list:\",l)"
      ],
      "metadata": {
        "colab": {
          "base_uri": "https://localhost:8080/",
          "height": 391
        },
        "id": "GUrgJHQ3k1xy",
        "outputId": "2c31930b-5ae1-416b-b7f8-1551fa500201"
      },
      "execution_count": null,
      "outputs": [
        {
          "output_type": "stream",
          "name": "stdout",
          "text": [
            "Enter number of elements:6\n",
            "Enter elements of list:\n",
            "d\n",
            "e\n",
            "l\n",
            "e\n",
            "t\n",
            "e\n",
            "List: ['d', 'e', 'l', 'e', 't', 'e']\n"
          ]
        },
        {
          "output_type": "error",
          "ename": "IndexError",
          "evalue": "ignored",
          "traceback": [
            "\u001b[0;31m---------------------------------------------------------------------------\u001b[0m",
            "\u001b[0;31mIndexError\u001b[0m                                Traceback (most recent call last)",
            "\u001b[0;32m<ipython-input-58-dbcee3a23aeb>\u001b[0m in \u001b[0;36m<module>\u001b[0;34m\u001b[0m\n\u001b[1;32m      9\u001b[0m \u001b[0;31m#del_item=input(\"Enter element to delete:\")\u001b[0m\u001b[0;34m\u001b[0m\u001b[0;34m\u001b[0m\u001b[0m\n\u001b[1;32m     10\u001b[0m \u001b[0;32mfor\u001b[0m \u001b[0mi\u001b[0m \u001b[0;32min\u001b[0m \u001b[0mrange\u001b[0m\u001b[0;34m(\u001b[0m\u001b[0mlen\u001b[0m\u001b[0;34m(\u001b[0m\u001b[0ml\u001b[0m\u001b[0;34m)\u001b[0m\u001b[0;34m-\u001b[0m\u001b[0;36m1\u001b[0m\u001b[0;34m)\u001b[0m\u001b[0;34m:\u001b[0m\u001b[0;34m\u001b[0m\u001b[0;34m\u001b[0m\u001b[0m\n\u001b[0;32m---> 11\u001b[0;31m   \u001b[0;32mif\u001b[0m\u001b[0;34m(\u001b[0m\u001b[0ml\u001b[0m\u001b[0;34m[\u001b[0m\u001b[0mi\u001b[0m\u001b[0;34m]\u001b[0m\u001b[0;34m==\u001b[0m\u001b[0mdel_item\u001b[0m\u001b[0;34m)\u001b[0m\u001b[0;34m:\u001b[0m\u001b[0;34m\u001b[0m\u001b[0;34m\u001b[0m\u001b[0m\n\u001b[0m\u001b[1;32m     12\u001b[0m     \u001b[0ml\u001b[0m\u001b[0;34m.\u001b[0m\u001b[0mremove\u001b[0m\u001b[0;34m(\u001b[0m\u001b[0ml\u001b[0m\u001b[0;34m[\u001b[0m\u001b[0mi\u001b[0m\u001b[0;34m]\u001b[0m\u001b[0;34m)\u001b[0m\u001b[0;34m\u001b[0m\u001b[0;34m\u001b[0m\u001b[0m\n\u001b[1;32m     13\u001b[0m \u001b[0mprint\u001b[0m\u001b[0;34m(\u001b[0m\u001b[0;34m\"Modified list:\"\u001b[0m\u001b[0;34m,\u001b[0m\u001b[0ml\u001b[0m\u001b[0;34m)\u001b[0m\u001b[0;34m\u001b[0m\u001b[0;34m\u001b[0m\u001b[0m\n",
            "\u001b[0;31mIndexError\u001b[0m: list index out of range"
          ]
        }
      ]
    },
    {
      "cell_type": "code",
      "source": [
        "list=[]\n",
        "n=int(input(\"Enter number of elements:\"))\n",
        "print(\"Enter elements of list:\")\n",
        "for i in range(n):\n",
        "    list.append((input()))\n",
        "print(\"List:\",list)\n",
        "del_item=input(\"Enter element to delete:\")\n",
        "i=0 \n",
        "length = len(list)  #list length \n",
        "while(i<length):\n",
        "\tif(list[i]==del_item):\n",
        "\t\tlist.remove (list[i])\n",
        "\t\tlength = length -1  \n",
        "\t\tcontinue\n",
        "\ti = i+1\n",
        "\n",
        "print (\"list after removing elements:\")\n",
        "print (list)"
      ],
      "metadata": {
        "colab": {
          "base_uri": "https://localhost:8080/"
        },
        "id": "kf_hQR4TsSeB",
        "outputId": "893c5fd3-37df-4485-a8bb-7202981faf0d"
      },
      "execution_count": null,
      "outputs": [
        {
          "output_type": "stream",
          "name": "stdout",
          "text": [
            "Enter number of elements:6\n",
            "Enter elements of list:\n",
            "d\n",
            "e\n",
            "l\n",
            "e\n",
            "t\n",
            "e\n",
            "List: ['d', 'e', 'l', 'e', 't', 'e']\n",
            "Enter element to delete:e\n",
            "list after removing elements:\n",
            "['d', 'l', 't']\n"
          ]
        }
      ]
    },
    {
      "cell_type": "markdown",
      "source": [
        "1. Write a program in python to concatenate 3 dictionaries \n",
        "2. Write a program in python to create a dictionary for the student information add new student information and get the average of the student marks of 3 subjects."
      ],
      "metadata": {
        "id": "l9HByRtvqBLO"
      }
    },
    {
      "cell_type": "code",
      "source": [
        "#Write a program in python to concatenate 3 dictionaries \n",
        "\n",
        "d1={\n",
        "    1:\"javascript\",\n",
        "    2:\"HTML\",\n",
        "    3:\"CSS\"\n",
        "}\n",
        "\n",
        "d2={\n",
        "    4:\"Java\",\n",
        "    5:\"C\",\n",
        "    6:\"C++\"\n",
        "}\n",
        "\n",
        "d3={\n",
        "    7:\"Python\"\n",
        "}\n",
        "\n",
        "d1.update(d2)\n",
        "d1.update(d3)\n",
        "print(d1)\n"
      ],
      "metadata": {
        "colab": {
          "base_uri": "https://localhost:8080/"
        },
        "id": "GyF5OCXZpXzh",
        "outputId": "7fadfce2-5733-45bf-b4a6-6aa611fd8e3d"
      },
      "execution_count": null,
      "outputs": [
        {
          "output_type": "stream",
          "name": "stdout",
          "text": [
            "{1: 'javascript', 2: 'HTML', 3: 'CSS', 4: 'Java', 5: 'C', 6: 'C++', 7: 'Python'}\n"
          ]
        }
      ]
    },
    {
      "cell_type": "code",
      "source": [
        "#Write a program in python to create a dictionary for the student information add new student information and get the average of the student marks of 3 subjects.\n",
        "\n",
        "studentInfo={\n",
        "    \"Student1\":{ \n",
        "    \"Name\":\"Irene\",\n",
        "    \"Roll no.\":1,\n",
        "    \"Marks\":89\n",
        "   },\n",
        "   \"Student2\":{ \n",
        "    \"Name\":\"Wendy\",\n",
        "    \"Roll no.\":1,\n",
        "    \"Marks\":95\n",
        "   },\n",
        "  \"Student3\": { \n",
        "    \"Name\":\"Giselle\",\n",
        "    \"Roll no.\":1,\n",
        "    \"Marks\":73\n",
        "   }\n",
        "}\n",
        "print(\"Enter New Student Details:\")\n",
        "name=input(\"Enter Name:\")\n",
        "roll=int(input(\"Enter Roll no:\"))\n",
        "marks=int(input(\"Enter Marks:\"))\n",
        "\n",
        "student4={\"Name\":\"\",\n",
        "    \"Roll no.\":1,\n",
        "    \"Marks\":73}\n",
        "\n",
        "print(studentInfo)"
      ],
      "metadata": {
        "colab": {
          "base_uri": "https://localhost:8080/"
        },
        "id": "s8Aso5MZtZt4",
        "outputId": "0d74bab9-383c-4707-fab3-ca93b11a8067"
      },
      "execution_count": null,
      "outputs": [
        {
          "output_type": "stream",
          "name": "stdout",
          "text": [
            "{'Student1': {'Name': 'Irene', 'Roll no.': 1, 'Marks': 89}, 'Student2': {'Name': 'Wendy', 'Roll no.': 1, 'Marks': 95}, 'Student3': {'Name': 'Giselle', 'Roll no.': 1, 'Marks': 73}}\n"
          ]
        }
      ]
    }
  ]
}